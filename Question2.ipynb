{
 "cells": [
  {
   "cell_type": "markdown",
   "metadata": {},
   "source": [
    "### Question 2\n",
    "Does a customer's overall discount rate effect their total purchase amount? "
   ]
  },
  {
   "cell_type": "markdown",
   "metadata": {},
   "source": [
    "### Importing Python Module "
   ]
  },
  {
   "cell_type": "code",
   "execution_count": 1,
   "metadata": {},
   "outputs": [
    {
     "name": "stdout",
     "output_type": "stream",
     "text": [
      "ip\n"
     ]
    }
   ],
   "source": [
    "from importlib import reload\n",
    "\n",
    "import numpy as np\n",
    "import pandas as pd\n",
    "\n",
    "import sqlite3\n",
    "\n",
    "# Removing red warnings\n",
    "import warnings\n",
    "warnings.filterwarnings('ignore')\n",
    "\n",
    "# Power Analysis\n",
    "from statsmodels.stats.power import tt_ind_solve_power,ttest_power\n",
    "\n",
    "#For tukey test\n",
    "from statsmodels.stats.multicomp import pairwise_tukeyhsd\n",
    "from statsmodels.stats.multicomp import MultiComparison\n",
    "\n",
    "#\n",
    "import seaborn as sns\n",
    "import matplotlib.pyplot as plt\n",
    "plt.style.use('ggplot')\n",
    "figsize = (13,8)\n",
    "\n",
    "import function as func\n",
    "\n",
    "import scipy.stats as scs\n"
   ]
  },
  {
   "cell_type": "code",
   "execution_count": 2,
   "metadata": {},
   "outputs": [],
   "source": [
    "conn = func.MyConn(filename= 'Northwind_small.sqlite')"
   ]
  },
  {
   "cell_type": "code",
   "execution_count": 3,
   "metadata": {},
   "outputs": [],
   "source": [
    "query =  \"\"\"\n",
    "            SELECT o.ID, CustomerID, ProductID, Quantity, Discount, UnitPrice\n",
    "            FROM 'Order' as o\n",
    "            JOIN 'OrderDetail' as od\n",
    "            on o.ID = od.OrderID \n",
    "        \"\"\"\n"
   ]
  },
  {
   "cell_type": "code",
   "execution_count": 4,
   "metadata": {},
   "outputs": [],
   "source": [
    "df = conn.load_query_as_df(query)\n"
   ]
  },
  {
   "cell_type": "code",
   "execution_count": 5,
   "metadata": {},
   "outputs": [
    {
     "data": {
      "text/plain": [
       "count      2155\n",
       "unique       89\n",
       "top       SAVEA\n",
       "freq        116\n",
       "Name: CustomerId, dtype: object"
      ]
     },
     "execution_count": 5,
     "metadata": {},
     "output_type": "execute_result"
    }
   ],
   "source": [
    "df.CustomerId.describe()"
   ]
  },
  {
   "cell_type": "code",
   "execution_count": 6,
   "metadata": {},
   "outputs": [
    {
     "data": {
      "text/html": [
       "<div>\n",
       "<style scoped>\n",
       "    .dataframe tbody tr th:only-of-type {\n",
       "        vertical-align: middle;\n",
       "    }\n",
       "\n",
       "    .dataframe tbody tr th {\n",
       "        vertical-align: top;\n",
       "    }\n",
       "\n",
       "    .dataframe thead th {\n",
       "        text-align: right;\n",
       "    }\n",
       "</style>\n",
       "<table border=\"1\" class=\"dataframe\">\n",
       "  <thead>\n",
       "    <tr style=\"text-align: right;\">\n",
       "      <th></th>\n",
       "      <th>Id</th>\n",
       "      <th>CustomerId</th>\n",
       "      <th>ProductId</th>\n",
       "      <th>Quantity</th>\n",
       "      <th>Discount</th>\n",
       "      <th>UnitPrice</th>\n",
       "      <th>StandardPrice</th>\n",
       "      <th>LineTotal</th>\n",
       "      <th>StandardAmount</th>\n",
       "    </tr>\n",
       "  </thead>\n",
       "  <tbody>\n",
       "    <tr>\n",
       "      <th>0</th>\n",
       "      <td>10248</td>\n",
       "      <td>VINET</td>\n",
       "      <td>11</td>\n",
       "      <td>12</td>\n",
       "      <td>0.0</td>\n",
       "      <td>14.0</td>\n",
       "      <td>14.0</td>\n",
       "      <td>168.0</td>\n",
       "      <td>168.0</td>\n",
       "    </tr>\n",
       "    <tr>\n",
       "      <th>1</th>\n",
       "      <td>10248</td>\n",
       "      <td>VINET</td>\n",
       "      <td>42</td>\n",
       "      <td>10</td>\n",
       "      <td>0.0</td>\n",
       "      <td>9.8</td>\n",
       "      <td>9.8</td>\n",
       "      <td>98.0</td>\n",
       "      <td>98.0</td>\n",
       "    </tr>\n",
       "    <tr>\n",
       "      <th>2</th>\n",
       "      <td>10248</td>\n",
       "      <td>VINET</td>\n",
       "      <td>72</td>\n",
       "      <td>5</td>\n",
       "      <td>0.0</td>\n",
       "      <td>34.8</td>\n",
       "      <td>34.8</td>\n",
       "      <td>174.0</td>\n",
       "      <td>174.0</td>\n",
       "    </tr>\n",
       "    <tr>\n",
       "      <th>3</th>\n",
       "      <td>10249</td>\n",
       "      <td>TOMSP</td>\n",
       "      <td>14</td>\n",
       "      <td>9</td>\n",
       "      <td>0.0</td>\n",
       "      <td>18.6</td>\n",
       "      <td>18.6</td>\n",
       "      <td>167.4</td>\n",
       "      <td>167.4</td>\n",
       "    </tr>\n",
       "    <tr>\n",
       "      <th>4</th>\n",
       "      <td>10249</td>\n",
       "      <td>TOMSP</td>\n",
       "      <td>51</td>\n",
       "      <td>40</td>\n",
       "      <td>0.0</td>\n",
       "      <td>42.4</td>\n",
       "      <td>42.4</td>\n",
       "      <td>1696.0</td>\n",
       "      <td>1696.0</td>\n",
       "    </tr>\n",
       "  </tbody>\n",
       "</table>\n",
       "</div>"
      ],
      "text/plain": [
       "      Id CustomerId  ProductId  Quantity  Discount  UnitPrice  StandardPrice  \\\n",
       "0  10248      VINET         11        12       0.0       14.0           14.0   \n",
       "1  10248      VINET         42        10       0.0        9.8            9.8   \n",
       "2  10248      VINET         72         5       0.0       34.8           34.8   \n",
       "3  10249      TOMSP         14         9       0.0       18.6           18.6   \n",
       "4  10249      TOMSP         51        40       0.0       42.4           42.4   \n",
       "\n",
       "   LineTotal  StandardAmount  \n",
       "0      168.0           168.0  \n",
       "1       98.0            98.0  \n",
       "2      174.0           174.0  \n",
       "3      167.4           167.4  \n",
       "4     1696.0          1696.0  "
      ]
     },
     "execution_count": 6,
     "metadata": {},
     "output_type": "execute_result"
    }
   ],
   "source": [
    "# Adding the standard price\n",
    "df['StandardPrice']= df.UnitPrice/(1- df.Discount)\n",
    "# Line total\n",
    "df['LineTotal'] = df.UnitPrice* df.Quantity\n",
    "# Discounted Amount\n",
    "df['StandardAmount'] = df.StandardPrice* df.Quantity\n",
    "df.head()"
   ]
  },
  {
   "cell_type": "code",
   "execution_count": 7,
   "metadata": {},
   "outputs": [
    {
     "data": {
      "text/html": [
       "<div>\n",
       "<style scoped>\n",
       "    .dataframe tbody tr th:only-of-type {\n",
       "        vertical-align: middle;\n",
       "    }\n",
       "\n",
       "    .dataframe tbody tr th {\n",
       "        vertical-align: top;\n",
       "    }\n",
       "\n",
       "    .dataframe thead th {\n",
       "        text-align: right;\n",
       "    }\n",
       "</style>\n",
       "<table border=\"1\" class=\"dataframe\">\n",
       "  <thead>\n",
       "    <tr style=\"text-align: right;\">\n",
       "      <th></th>\n",
       "      <th>Quantity</th>\n",
       "      <th>TotalSpent</th>\n",
       "      <th>StandardAmount</th>\n",
       "      <th>Discount</th>\n",
       "    </tr>\n",
       "    <tr>\n",
       "      <th>CustomerId</th>\n",
       "      <th></th>\n",
       "      <th></th>\n",
       "      <th></th>\n",
       "      <th></th>\n",
       "    </tr>\n",
       "  </thead>\n",
       "  <tbody>\n",
       "    <tr>\n",
       "      <th>ALFKI</th>\n",
       "      <td>174</td>\n",
       "      <td>4596.20</td>\n",
       "      <td>5013.647368</td>\n",
       "      <td>0.083262</td>\n",
       "    </tr>\n",
       "    <tr>\n",
       "      <th>ANATR</th>\n",
       "      <td>63</td>\n",
       "      <td>1402.95</td>\n",
       "      <td>1402.950000</td>\n",
       "      <td>0.000000</td>\n",
       "    </tr>\n",
       "    <tr>\n",
       "      <th>ANTO</th>\n",
       "      <td>359</td>\n",
       "      <td>7515.35</td>\n",
       "      <td>8079.340523</td>\n",
       "      <td>0.069807</td>\n",
       "    </tr>\n",
       "    <tr>\n",
       "      <th>AROUT</th>\n",
       "      <td>650</td>\n",
       "      <td>13806.50</td>\n",
       "      <td>14265.937822</td>\n",
       "      <td>0.032205</td>\n",
       "    </tr>\n",
       "    <tr>\n",
       "      <th>BERGS</th>\n",
       "      <td>1001</td>\n",
       "      <td>26968.15</td>\n",
       "      <td>29523.261111</td>\n",
       "      <td>0.086546</td>\n",
       "    </tr>\n",
       "  </tbody>\n",
       "</table>\n",
       "</div>"
      ],
      "text/plain": [
       "            Quantity  TotalSpent  StandardAmount  Discount\n",
       "CustomerId                                                \n",
       "ALFKI            174     4596.20     5013.647368  0.083262\n",
       "ANATR             63     1402.95     1402.950000  0.000000\n",
       "ANTO             359     7515.35     8079.340523  0.069807\n",
       "AROUT            650    13806.50    14265.937822  0.032205\n",
       "BERGS           1001    26968.15    29523.261111  0.086546"
      ]
     },
     "execution_count": 7,
     "metadata": {},
     "output_type": "execute_result"
    }
   ],
   "source": [
    "columns = ['Quantity', 'LineTotal', 'StandardAmount', 'Discount']\n",
    "df_customer = df.groupby('CustomerId')[columns].sum()\n",
    "df_customer.Discount = (df_customer.StandardAmount- df_customer.LineTotal)/ df_customer.StandardAmount\n",
    "df_customer = df_customer.rename(columns= {'LineTotal':'TotalSpent'})\n",
    "df_customer.head()"
   ]
  },
  {
   "cell_type": "code",
   "execution_count": 24,
   "metadata": {
    "scrolled": false
   },
   "outputs": [
    {
     "data": {
      "image/png": "[encoded data removed]",
      "text/plain": [
       "<Figure size 936x576 with 1 Axes>"
      ]
     },
     "metadata": {
      "needs_background": "light"
     },
     "output_type": "display_data"
    }
   ],
   "source": [
    "func.plotset(title= 'Customer Spending v. Overall Discount Level of Purchases')\n",
    "sns.scatterplot(x= 'Discount', y= 'TotalSpent', data= df_customer); \n",
    "sns.scatterplot(x= 'Discount', y= 'TotalSpent', data= df_customer.loc[df_customer.Discount == 0], color= 'blue'); "
   ]
  },
  {
   "cell_type": "markdown",
   "metadata": {},
   "source": [
    "There seems to be a distinct difference between discounted and non discounted, see blue markers on the plot. "
   ]
  },
  {
   "cell_type": "code",
   "execution_count": 25,
   "metadata": {},
   "outputs": [
    {
     "data": {
      "text/html": [
       "<div>\n",
       "<style scoped>\n",
       "    .dataframe tbody tr th:only-of-type {\n",
       "        vertical-align: middle;\n",
       "    }\n",
       "\n",
       "    .dataframe tbody tr th {\n",
       "        vertical-align: top;\n",
       "    }\n",
       "\n",
       "    .dataframe thead th {\n",
       "        text-align: right;\n",
       "    }\n",
       "</style>\n",
       "<table border=\"1\" class=\"dataframe\">\n",
       "  <thead>\n",
       "    <tr style=\"text-align: right;\">\n",
       "      <th></th>\n",
       "      <th>Quantity</th>\n",
       "      <th>TotalSpent</th>\n",
       "      <th>StandardAmount</th>\n",
       "      <th>Discount</th>\n",
       "    </tr>\n",
       "  </thead>\n",
       "  <tbody>\n",
       "    <tr>\n",
       "      <th>Quantity</th>\n",
       "      <td>1.000000</td>\n",
       "      <td>0.972739</td>\n",
       "      <td>0.973827</td>\n",
       "      <td>0.080549</td>\n",
       "    </tr>\n",
       "    <tr>\n",
       "      <th>TotalSpent</th>\n",
       "      <td>0.972739</td>\n",
       "      <td>1.000000</td>\n",
       "      <td>0.999041</td>\n",
       "      <td>0.083154</td>\n",
       "    </tr>\n",
       "    <tr>\n",
       "      <th>StandardAmount</th>\n",
       "      <td>0.973827</td>\n",
       "      <td>0.999041</td>\n",
       "      <td>1.000000</td>\n",
       "      <td>0.115591</td>\n",
       "    </tr>\n",
       "    <tr>\n",
       "      <th>Discount</th>\n",
       "      <td>0.080549</td>\n",
       "      <td>0.083154</td>\n",
       "      <td>0.115591</td>\n",
       "      <td>1.000000</td>\n",
       "    </tr>\n",
       "  </tbody>\n",
       "</table>\n",
       "</div>"
      ],
      "text/plain": [
       "                Quantity  TotalSpent  StandardAmount  Discount\n",
       "Quantity        1.000000    0.972739        0.973827  0.080549\n",
       "TotalSpent      0.972739    1.000000        0.999041  0.083154\n",
       "StandardAmount  0.973827    0.999041        1.000000  0.115591\n",
       "Discount        0.080549    0.083154        0.115591  1.000000"
      ]
     },
     "execution_count": 25,
     "metadata": {},
     "output_type": "execute_result"
    }
   ],
   "source": [
    "df_customer.loc[df_customer.Discount != 0].corr()"
   ]
  },
  {
   "cell_type": "markdown",
   "metadata": {},
   "source": [
    "There isn't much correlation between discount level and TotalSpent dollars among the discounted customers. "
   ]
  },
  {
   "cell_type": "code",
   "execution_count": 9,
   "metadata": {
    "scrolled": false
   },
   "outputs": [
    {
     "data": {
      "text/plain": [
       "Text(0.5, 1.0, 'Distribution of Total Dollars Spent by Customer of \\n Undiscounted Customers V. Discounter Customers')"
      ]
     },
     "execution_count": 9,
     "metadata": {},
     "output_type": "execute_result"
    },
    {
     "data": {
      "image/png": "[encoded data removed]",
      "text/plain": [
       "<Figure size 936x576 with 1 Axes>"
      ]
     },
     "metadata": {
      "needs_background": "light"
     },
     "output_type": "display_data"
    }
   ],
   "source": [
    "func.plotset()\n",
    "sns.distplot(df_customer.loc[df_customer.Discount == 0].TotalSpent);\n",
    "sns.distplot(df_customer.loc[df_customer.Discount != 0].TotalSpent);\n",
    "plt.title('Distribution of Total Dollars Spent by Customer of \\n Undiscounted Customers V. Discounter Customers')"
   ]
  },
  {
   "cell_type": "code",
   "execution_count": 11,
   "metadata": {
    "scrolled": false
   },
   "outputs": [
    {
     "data": {
      "text/html": [
       "<div>\n",
       "<style scoped>\n",
       "    .dataframe tbody tr th:only-of-type {\n",
       "        vertical-align: middle;\n",
       "    }\n",
       "\n",
       "    .dataframe tbody tr th {\n",
       "        vertical-align: top;\n",
       "    }\n",
       "\n",
       "    .dataframe thead th {\n",
       "        text-align: right;\n",
       "    }\n",
       "</style>\n",
       "<table border=\"1\" class=\"dataframe\">\n",
       "  <thead>\n",
       "    <tr style=\"text-align: right;\">\n",
       "      <th></th>\n",
       "      <th>Quantity</th>\n",
       "      <th>TotalSpent</th>\n",
       "      <th>StandardAmount</th>\n",
       "      <th>Discount</th>\n",
       "      <th>BinnedDiscount</th>\n",
       "    </tr>\n",
       "    <tr>\n",
       "      <th>CustomerId</th>\n",
       "      <th></th>\n",
       "      <th></th>\n",
       "      <th></th>\n",
       "      <th></th>\n",
       "      <th></th>\n",
       "    </tr>\n",
       "  </thead>\n",
       "  <tbody>\n",
       "    <tr>\n",
       "      <th>ALFKI</th>\n",
       "      <td>174</td>\n",
       "      <td>4596.20</td>\n",
       "      <td>5013.647368</td>\n",
       "      <td>0.083262</td>\n",
       "      <td>(0.0, 0.211]</td>\n",
       "    </tr>\n",
       "    <tr>\n",
       "      <th>ANATR</th>\n",
       "      <td>63</td>\n",
       "      <td>1402.95</td>\n",
       "      <td>1402.950000</td>\n",
       "      <td>0.000000</td>\n",
       "      <td>NoDiscount</td>\n",
       "    </tr>\n",
       "    <tr>\n",
       "      <th>ANTO</th>\n",
       "      <td>359</td>\n",
       "      <td>7515.35</td>\n",
       "      <td>8079.340523</td>\n",
       "      <td>0.069807</td>\n",
       "      <td>(0.0, 0.211]</td>\n",
       "    </tr>\n",
       "    <tr>\n",
       "      <th>AROUT</th>\n",
       "      <td>650</td>\n",
       "      <td>13806.50</td>\n",
       "      <td>14265.937822</td>\n",
       "      <td>0.032205</td>\n",
       "      <td>(0.0, 0.211]</td>\n",
       "    </tr>\n",
       "    <tr>\n",
       "      <th>BERGS</th>\n",
       "      <td>1001</td>\n",
       "      <td>26968.15</td>\n",
       "      <td>29523.261111</td>\n",
       "      <td>0.086546</td>\n",
       "      <td>(0.0, 0.211]</td>\n",
       "    </tr>\n",
       "  </tbody>\n",
       "</table>\n",
       "</div>"
      ],
      "text/plain": [
       "            Quantity  TotalSpent  StandardAmount  Discount BinnedDiscount\n",
       "CustomerId                                                               \n",
       "ALFKI            174     4596.20     5013.647368  0.083262   (0.0, 0.211]\n",
       "ANATR             63     1402.95     1402.950000  0.000000     NoDiscount\n",
       "ANTO             359     7515.35     8079.340523  0.069807   (0.0, 0.211]\n",
       "AROUT            650    13806.50    14265.937822  0.032205   (0.0, 0.211]\n",
       "BERGS           1001    26968.15    29523.261111  0.086546   (0.0, 0.211]"
      ]
     },
     "execution_count": 11,
     "metadata": {},
     "output_type": "execute_result"
    }
   ],
   "source": [
    "func.df_binning(df_customer, column= 'Discount', bins=1)\n",
    "df_customer.BinnedDiscount = df_customer.BinnedDiscount.astype(str)\n",
    "df_customer.BinnedDiscount = df_customer.BinnedDiscount.replace(to_replace='nan', \n",
    "                                                                value='NoDiscount')\n",
    "\n",
    "df_customer.head()"
   ]
  },
  {
   "cell_type": "code",
   "execution_count": 12,
   "metadata": {},
   "outputs": [
    {
     "data": {
      "image/png": "[encoded data removed]",
      "text/plain": [
       "<Figure size 936x576 with 1 Axes>"
      ]
     },
     "metadata": {
      "needs_background": "light"
     },
     "output_type": "display_data"
    }
   ],
   "source": [
    "func.plotset(title='Distribution of Total Spent v. Discount Level')\n",
    "\n",
    "for i in df_customer.BinnedDiscount.value_counts().index:\n",
    "    \n",
    "    sns.distplot(df_customer.loc[df_customer.BinnedDiscount== i].TotalSpent, label= i,axlabel='Total Spent')\n",
    "    plt.legend()\n"
   ]
  },
  {
   "cell_type": "code",
   "execution_count": 13,
   "metadata": {},
   "outputs": [
    {
     "data": {
      "text/html": [
       "<div>\n",
       "<style scoped>\n",
       "    .dataframe tbody tr th:only-of-type {\n",
       "        vertical-align: middle;\n",
       "    }\n",
       "\n",
       "    .dataframe tbody tr th {\n",
       "        vertical-align: top;\n",
       "    }\n",
       "\n",
       "    .dataframe thead th {\n",
       "        text-align: right;\n",
       "    }\n",
       "</style>\n",
       "<table border=\"1\" class=\"dataframe\">\n",
       "  <thead>\n",
       "    <tr style=\"text-align: right;\">\n",
       "      <th></th>\n",
       "      <th>TotalSpent</th>\n",
       "      <th>StandardAmount</th>\n",
       "      <th>CustomerCount</th>\n",
       "      <th>AveragePerCustomer</th>\n",
       "    </tr>\n",
       "    <tr>\n",
       "      <th>BinnedDiscount</th>\n",
       "      <th></th>\n",
       "      <th></th>\n",
       "      <th></th>\n",
       "      <th></th>\n",
       "    </tr>\n",
       "  </thead>\n",
       "  <tbody>\n",
       "    <tr>\n",
       "      <th>(0.0, 0.211]</th>\n",
       "      <td>1244123.19</td>\n",
       "      <td>1.353620e+06</td>\n",
       "      <td>54</td>\n",
       "      <td>23039.318333</td>\n",
       "    </tr>\n",
       "    <tr>\n",
       "      <th>NoDiscount</th>\n",
       "      <td>110335.40</td>\n",
       "      <td>1.103354e+05</td>\n",
       "      <td>35</td>\n",
       "      <td>3152.440000</td>\n",
       "    </tr>\n",
       "  </tbody>\n",
       "</table>\n",
       "</div>"
      ],
      "text/plain": [
       "                TotalSpent  StandardAmount  CustomerCount  AveragePerCustomer\n",
       "BinnedDiscount                                                               \n",
       "(0.0, 0.211]    1244123.19    1.353620e+06             54        23039.318333\n",
       "NoDiscount       110335.40    1.103354e+05             35         3152.440000"
      ]
     },
     "execution_count": 13,
     "metadata": {},
     "output_type": "execute_result"
    }
   ],
   "source": [
    "df_discount = df_customer.groupby('BinnedDiscount')['TotalSpent', 'StandardAmount'].sum()\n",
    "df_discount['CustomerCount'] = df_customer.groupby('BinnedDiscount')['Quantity'].count()\n",
    "df_discount['AveragePerCustomer'] = df_discount.TotalSpent/ df_discount.CustomerCount\n",
    "df_discount.head()"
   ]
  },
  {
   "cell_type": "markdown",
   "metadata": {},
   "source": [
    "#### Normalilty Shapiro Welk Test"
   ]
  },
  {
   "cell_type": "code",
   "execution_count": 14,
   "metadata": {},
   "outputs": [
    {
     "name": "stdout",
     "output_type": "stream",
     "text": [
      "(0.0, 0.211]\n",
      "non normal\n",
      "t 0.6238155364990234, p 1.635892254991944e-10\n",
      "NoDiscount\n",
      "non normal\n",
      "t 0.8218997716903687, p 5.651193714584224e-05\n"
     ]
    }
   ],
   "source": [
    "for i in df_customer.BinnedDiscount.value_counts().index:\n",
    "    print(i)\n",
    "    print(func.shapiro_normal(df_customer.loc[df_customer.BinnedDiscount == i].TotalSpent))"
   ]
  },
  {
   "cell_type": "markdown",
   "metadata": {},
   "source": [
    "#### Test analysis\n",
    "The null hypothesis is that the tested distribution is normally distributed, and the alternative hypothesis is that the distribution is non-normal. A p values threshold is 0.05. \n",
    "\n",
    "The p values for the bootstrap order data are below 0.05, so they are non normal. Bootstrapping will need to be use "
   ]
  },
  {
   "cell_type": "code",
   "execution_count": 15,
   "metadata": {},
   "outputs": [],
   "source": [
    "df_mean_sampling = func.df_bootstrapping(df_customer, 'TotalSpent', bin_column='BinnedDiscount', num_of_samples= 35)"
   ]
  },
  {
   "cell_type": "code",
   "execution_count": 16,
   "metadata": {},
   "outputs": [
    {
     "data": {
      "image/png": "[encoded data removed]",
      "text/plain": [
       "<Figure size 432x288 with 1 Axes>"
      ]
     },
     "metadata": {
      "needs_background": "light"
     },
     "output_type": "display_data"
    }
   ],
   "source": [
    "sns.violinplot(x= 'BinnedValue', y= 'TotalSpent', data= df_mean_sampling);"
   ]
  },
  {
   "cell_type": "code",
   "execution_count": null,
   "metadata": {},
   "outputs": [],
   "source": []
  },
  {
   "cell_type": "markdown",
   "metadata": {},
   "source": [
    "#### Normalilty Shapiro Welk Test"
   ]
  },
  {
   "cell_type": "code",
   "execution_count": 17,
   "metadata": {
    "scrolled": false
   },
   "outputs": [
    {
     "name": "stdout",
     "output_type": "stream",
     "text": [
      "NoDiscount\n",
      "normal\n",
      "t 0.9752906560897827, p 0.6034384965896606\n",
      "(0.0, 0.211]\n",
      "normal\n",
      "t 0.9656100869178772, p 0.33439284563064575\n"
     ]
    }
   ],
   "source": [
    "for i in df_mean_sampling.BinnedValue.value_counts().index:\n",
    "    print(i)\n",
    "    print(func.shapiro_normal(df_mean_sampling.loc[df_mean_sampling.BinnedValue == i].TotalSpent))"
   ]
  },
  {
   "cell_type": "markdown",
   "metadata": {},
   "source": [
    "#### Test analysis\n",
    "The null hypothesis is that the tested distribution is normally distributed, and the alternative hypothesis is that the distribution is non-normal. A p values threshold is 0.05. \n",
    "\n",
    "*Null hypothesis was not rejected.* The p-values are above the threshold, so the distrbutions are normal. \n"
   ]
  },
  {
   "cell_type": "markdown",
   "metadata": {},
   "source": [
    "#### Variance Test"
   ]
  },
  {
   "cell_type": "code",
   "execution_count": 18,
   "metadata": {},
   "outputs": [
    {
     "name": "stdout",
     "output_type": "stream",
     "text": [
      "p = 3.056001881201966e-12\n",
      "Therefore the data do not have equal variances\n"
     ]
    },
    {
     "data": {
      "text/plain": [
       "False"
      ]
     },
     "execution_count": 18,
     "metadata": {},
     "output_type": "execute_result"
    }
   ],
   "source": [
    "func.levene_variances(df_mean_sampling.loc[df_mean_sampling.BinnedValue == 'NoDiscount'].TotalSpent,\n",
    "                      df_mean_sampling.loc[df_mean_sampling.BinnedValue == '(0.0, 0.211]'].TotalSpent)\n"
   ]
  },
  {
   "cell_type": "markdown",
   "metadata": {},
   "source": [
    "#### Test analysis\n",
    "The sample distributions don't have equal variances."
   ]
  },
  {
   "cell_type": "markdown",
   "metadata": {},
   "source": [
    "#### Welch T-test "
   ]
  },
  {
   "cell_type": "code",
   "execution_count": 19,
   "metadata": {},
   "outputs": [
    {
     "data": {
      "text/plain": [
       "Ttest_indResult(statistic=-32.755609711106366, pvalue=1.8205935764474964e-27)"
      ]
     },
     "execution_count": 19,
     "metadata": {},
     "output_type": "execute_result"
    }
   ],
   "source": [
    "scs.ttest_ind(df_mean_sampling.loc[df_mean_sampling.BinnedValue == 'NoDiscount'].TotalSpent,\n",
    "                      df_mean_sampling.loc[df_mean_sampling.BinnedValue == '(0.0, 0.211]'].TotalSpent, equal_var=False)"
   ]
  },
  {
   "cell_type": "markdown",
   "metadata": {},
   "source": [
    "#### Test analysis\n",
    "*Rejected the null hypothesis*(the sample means are identical)"
   ]
  },
  {
   "cell_type": "markdown",
   "metadata": {},
   "source": [
    "#### Effect Size"
   ]
  },
  {
   "cell_type": "code",
   "execution_count": 20,
   "metadata": {},
   "outputs": [
    {
     "data": {
      "text/plain": [
       "7.830088368581164"
      ]
     },
     "execution_count": 20,
     "metadata": {},
     "output_type": "execute_result"
    }
   ],
   "source": [
    "effect_size = func.cohen_d(df_mean_sampling.loc[df_mean_sampling.BinnedValue == '(0.0, 0.211]'].TotalSpent, \n",
    "             df_mean_sampling.loc[df_mean_sampling.BinnedValue == 'NoDiscount'].TotalSpent)\n",
    "effect_size"
   ]
  },
  {
   "cell_type": "code",
   "execution_count": 21,
   "metadata": {},
   "outputs": [
    {
     "data": {
      "text/plain": [
       "1.0"
      ]
     },
     "execution_count": 21,
     "metadata": {},
     "output_type": "execute_result"
    }
   ],
   "source": [
    "tt_ind_solve_power(effect_size=effect_size, nobs1=35, alpha=0.5)"
   ]
  },
  {
   "cell_type": "code",
   "execution_count": 32,
   "metadata": {},
   "outputs": [
    {
     "name": "stdout",
     "output_type": "stream",
     "text": [
      "3152.44\n",
      "23039.318333333336\n"
     ]
    },
    {
     "data": {
      "text/plain": [
       "19886.878333333338"
      ]
     },
     "execution_count": 32,
     "metadata": {},
     "output_type": "execute_result"
    }
   ],
   "source": [
    "print(df_customer.loc[df_customer.Discount == 0].TotalSpent.mean()) \n",
    "print(df_customer.loc[df_customer.Discount != 0].TotalSpent.mean())\n",
    "-df_customer.loc[df_customer.Discount == 0].TotalSpent.mean()+ df_customer.loc[df_customer.Discount != 0].TotalSpent.mean()"
   ]
  },
  {
   "cell_type": "markdown",
   "metadata": {},
   "source": [
    "### Conclusion \n",
    "There is statistical signficant difference in total dollars spent with customers that recieved discount and those that did not. There is a $19,886.88 positive increase the average of the non discounted customer to the discounted customers Among the discounted customer, there did not seem to be a signficant relationship between the spent and the level of discounts. "
   ]
  },
  {
   "cell_type": "code",
   "execution_count": 34,
   "metadata": {},
   "outputs": [
    {
     "name": "stderr",
     "output_type": "stream",
     "text": [
      "[NbConvertApp] Converting notebook Question2.ipynb to markdown\n",
      "[NbConvertApp] Support files will be in Question2_files\\\n",
      "[NbConvertApp] Making directory Question2_files\n",
      "[NbConvertApp] Making directory Question2_files\n",
      "[NbConvertApp] Making directory Question2_files\n",
      "[NbConvertApp] Making directory Question2_files\n",
      "[NbConvertApp] Writing 14155 bytes to Question2.md\n"
     ]
    }
   ],
   "source": [
    "!jupyter nbconvert --to markdown Question2"
   ]
  },
  {
   "cell_type": "code",
   "execution_count": null,
   "metadata": {},
   "outputs": [],
   "source": []
  }
 ],
 "metadata": {
  "kernelspec": {
   "display_name": "Python [conda env:.conda-learn-env] *",
   "language": "python",
   "name": "conda-env-.conda-learn-env-py"
  },
  "language_info": {
   "codemirror_mode": {
    "name": "ipython",
    "version": 3
   },
   "file_extension": ".py",
   "mimetype": "text/x-python",
   "name": "python",
   "nbconvert_exporter": "python",
   "pygments_lexer": "ipython3",
   "version": "3.6.6"
  }
 },
 "nbformat": 4,
 "nbformat_minor": 2
}
