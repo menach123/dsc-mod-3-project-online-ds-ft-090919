{
 "cells": [
  {
   "cell_type": "markdown",
   "metadata": {},
   "source": [
    "### Question1\n",
    "\n",
    "- Does discount amount have a statistically significant effect on the quantity of a product in an order? If so, at what level(s) of discount?\n",
    "\n",
    "\n",
    "Please note the average discount of entire order will be found, not just the each individual line item.  "
   ]
  },
  {
   "cell_type": "markdown",
   "metadata": {},
   "source": [
    "### Importing Python Module and Establish SQL Connection\n"
   ]
  },
  {
   "cell_type": "code",
   "execution_count": 1,
   "metadata": {},
   "outputs": [
    {
     "name": "stdout",
     "output_type": "stream",
     "text": [
      "ip\n"
     ]
    }
   ],
   "source": [
    "from importlib import reload\n",
    "\n",
    "import numpy as np\n",
    "import pandas as pd\n",
    "\n",
    "import sqlite3\n",
    "conn = sqlite3.Connection('Northwind_small.sqlite')\n",
    "cur = conn.cursor()\n",
    "\n",
    "# Removing red warnings\n",
    "import warnings\n",
    "warnings.filterwarnings('ignore')\n",
    "\n",
    "# Power Analysis\n",
    "from statsmodels.stats.power import tt_ind_solve_power,ttest_power\n",
    "\n",
    "#For tukey test\n",
    "from statsmodels.stats.multicomp import pairwise_tukeyhsd\n",
    "from statsmodels.stats.multicomp import MultiComparison\n",
    "\n",
    "#\n",
    "import seaborn as sns\n",
    "import matplotlib.pyplot as plt\n",
    "plt.style.use('ggplot')\n",
    "figsize = (13,8)\n",
    "\n",
    "import function as func"
   ]
  },
  {
   "cell_type": "markdown",
   "metadata": {},
   "source": [
    "### Function"
   ]
  },
  {
   "cell_type": "code",
   "execution_count": 2,
   "metadata": {},
   "outputs": [],
   "source": [
    "def sql_to_dataframe(query):\n",
    "    cur.execute(query)\n",
    "    \n",
    "    df = pd.DataFrame(cur.fetchall()) #Take results and create dataframe\n",
    "    df.columns = [i[0] for i in cur.description]\n",
    "\n",
    "    return df\n"
   ]
  },
  {
   "cell_type": "code",
   "execution_count": null,
   "metadata": {},
   "outputs": [],
   "source": []
  },
  {
   "cell_type": "markdown",
   "metadata": {},
   "source": [
    "### Creating  dataframe for discount quantity comparsion\n",
    "\n",
    "Pulling from the database the order details."
   ]
  },
  {
   "cell_type": "code",
   "execution_count": 3,
   "metadata": {},
   "outputs": [
    {
     "data": {
      "text/html": [
       "<div>\n",
       "<style scoped>\n",
       "    .dataframe tbody tr th:only-of-type {\n",
       "        vertical-align: middle;\n",
       "    }\n",
       "\n",
       "    .dataframe tbody tr th {\n",
       "        vertical-align: top;\n",
       "    }\n",
       "\n",
       "    .dataframe thead th {\n",
       "        text-align: right;\n",
       "    }\n",
       "</style>\n",
       "<table border=\"1\" class=\"dataframe\">\n",
       "  <thead>\n",
       "    <tr style=\"text-align: right;\">\n",
       "      <th></th>\n",
       "      <th>Id</th>\n",
       "      <th>ProductId</th>\n",
       "      <th>Quantity</th>\n",
       "      <th>Discount</th>\n",
       "      <th>UnitPrice</th>\n",
       "    </tr>\n",
       "  </thead>\n",
       "  <tbody>\n",
       "    <tr>\n",
       "      <th>0</th>\n",
       "      <td>10248</td>\n",
       "      <td>11</td>\n",
       "      <td>12</td>\n",
       "      <td>0.0</td>\n",
       "      <td>14.0</td>\n",
       "    </tr>\n",
       "    <tr>\n",
       "      <th>1</th>\n",
       "      <td>10248</td>\n",
       "      <td>42</td>\n",
       "      <td>10</td>\n",
       "      <td>0.0</td>\n",
       "      <td>9.8</td>\n",
       "    </tr>\n",
       "    <tr>\n",
       "      <th>2</th>\n",
       "      <td>10248</td>\n",
       "      <td>72</td>\n",
       "      <td>5</td>\n",
       "      <td>0.0</td>\n",
       "      <td>34.8</td>\n",
       "    </tr>\n",
       "    <tr>\n",
       "      <th>3</th>\n",
       "      <td>10249</td>\n",
       "      <td>14</td>\n",
       "      <td>9</td>\n",
       "      <td>0.0</td>\n",
       "      <td>18.6</td>\n",
       "    </tr>\n",
       "    <tr>\n",
       "      <th>4</th>\n",
       "      <td>10249</td>\n",
       "      <td>51</td>\n",
       "      <td>40</td>\n",
       "      <td>0.0</td>\n",
       "      <td>42.4</td>\n",
       "    </tr>\n",
       "  </tbody>\n",
       "</table>\n",
       "</div>"
      ],
      "text/plain": [
       "      Id  ProductId  Quantity  Discount  UnitPrice\n",
       "0  10248         11        12       0.0       14.0\n",
       "1  10248         42        10       0.0        9.8\n",
       "2  10248         72         5       0.0       34.8\n",
       "3  10249         14         9       0.0       18.6\n",
       "4  10249         51        40       0.0       42.4"
      ]
     },
     "execution_count": 3,
     "metadata": {},
     "output_type": "execute_result"
    }
   ],
   "source": [
    "query = \"\"\"\n",
    "            SELECT o.ID, ProductID, Quantity, Discount, UnitPrice\n",
    "            FROM 'Order' as o\n",
    "            JOIN 'OrderDetail' as od\n",
    "            on o.ID = od.OrderID\"\"\"\n",
    "\n",
    "df = sql_to_dataframe(query)\n",
    "df.head()"
   ]
  },
  {
   "cell_type": "markdown",
   "metadata": {},
   "source": [
    "Calculating the average percent discount for the entire."
   ]
  },
  {
   "cell_type": "code",
   "execution_count": 4,
   "metadata": {},
   "outputs": [
    {
     "data": {
      "text/html": [
       "<div>\n",
       "<style scoped>\n",
       "    .dataframe tbody tr th:only-of-type {\n",
       "        vertical-align: middle;\n",
       "    }\n",
       "\n",
       "    .dataframe tbody tr th {\n",
       "        vertical-align: top;\n",
       "    }\n",
       "\n",
       "    .dataframe thead th {\n",
       "        text-align: right;\n",
       "    }\n",
       "</style>\n",
       "<table border=\"1\" class=\"dataframe\">\n",
       "  <thead>\n",
       "    <tr style=\"text-align: right;\">\n",
       "      <th></th>\n",
       "      <th>Id</th>\n",
       "      <th>ProductId</th>\n",
       "      <th>Quantity</th>\n",
       "      <th>Discount</th>\n",
       "      <th>UnitPrice</th>\n",
       "      <th>StandardPrice</th>\n",
       "      <th>LineTotal</th>\n",
       "      <th>StandardAmount</th>\n",
       "    </tr>\n",
       "  </thead>\n",
       "  <tbody>\n",
       "    <tr>\n",
       "      <th>0</th>\n",
       "      <td>10248</td>\n",
       "      <td>11</td>\n",
       "      <td>12</td>\n",
       "      <td>0.0</td>\n",
       "      <td>14.0</td>\n",
       "      <td>14.0</td>\n",
       "      <td>168.0</td>\n",
       "      <td>168.0</td>\n",
       "    </tr>\n",
       "    <tr>\n",
       "      <th>1</th>\n",
       "      <td>10248</td>\n",
       "      <td>42</td>\n",
       "      <td>10</td>\n",
       "      <td>0.0</td>\n",
       "      <td>9.8</td>\n",
       "      <td>9.8</td>\n",
       "      <td>98.0</td>\n",
       "      <td>98.0</td>\n",
       "    </tr>\n",
       "    <tr>\n",
       "      <th>2</th>\n",
       "      <td>10248</td>\n",
       "      <td>72</td>\n",
       "      <td>5</td>\n",
       "      <td>0.0</td>\n",
       "      <td>34.8</td>\n",
       "      <td>34.8</td>\n",
       "      <td>174.0</td>\n",
       "      <td>174.0</td>\n",
       "    </tr>\n",
       "    <tr>\n",
       "      <th>3</th>\n",
       "      <td>10249</td>\n",
       "      <td>14</td>\n",
       "      <td>9</td>\n",
       "      <td>0.0</td>\n",
       "      <td>18.6</td>\n",
       "      <td>18.6</td>\n",
       "      <td>167.4</td>\n",
       "      <td>167.4</td>\n",
       "    </tr>\n",
       "    <tr>\n",
       "      <th>4</th>\n",
       "      <td>10249</td>\n",
       "      <td>51</td>\n",
       "      <td>40</td>\n",
       "      <td>0.0</td>\n",
       "      <td>42.4</td>\n",
       "      <td>42.4</td>\n",
       "      <td>1696.0</td>\n",
       "      <td>1696.0</td>\n",
       "    </tr>\n",
       "  </tbody>\n",
       "</table>\n",
       "</div>"
      ],
      "text/plain": [
       "      Id  ProductId  Quantity  Discount  UnitPrice  StandardPrice  LineTotal  \\\n",
       "0  10248         11        12       0.0       14.0           14.0      168.0   \n",
       "1  10248         42        10       0.0        9.8            9.8       98.0   \n",
       "2  10248         72         5       0.0       34.8           34.8      174.0   \n",
       "3  10249         14         9       0.0       18.6           18.6      167.4   \n",
       "4  10249         51        40       0.0       42.4           42.4     1696.0   \n",
       "\n",
       "   StandardAmount  \n",
       "0           168.0  \n",
       "1            98.0  \n",
       "2           174.0  \n",
       "3           167.4  \n",
       "4          1696.0  "
      ]
     },
     "execution_count": 4,
     "metadata": {},
     "output_type": "execute_result"
    }
   ],
   "source": [
    "# Adding the standard price\n",
    "df['StandardPrice']= df.UnitPrice/(1- df.Discount)\n",
    "# Line total\n",
    "df['LineTotal'] = df.UnitPrice* df.Quantity\n",
    "# Discounted Amount\n",
    "df['StandardAmount'] = df.StandardPrice* df.Quantity\n",
    "df.head()"
   ]
  },
  {
   "cell_type": "code",
   "execution_count": 5,
   "metadata": {},
   "outputs": [
    {
     "data": {
      "image/png": "[encoded data removed]",
      "text/plain": [
       "<Figure size 936x576 with 1 Axes>"
      ]
     },
     "metadata": {
      "needs_background": "light"
     },
     "output_type": "display_data"
    }
   ],
   "source": [
    "plt.figure(figsize=figsize);\n",
    "columns = ['Quantity', 'LineTotal', 'StandardAmount', 'Discount']\n",
    "orders_with_no_discount = df.loc[df.Discount == 0].groupby('Id')[columns].sum()\n",
    "orders_with_discount = df.loc[df.Discount != 0].groupby('Id')[columns].sum()\n",
    "sns.distplot(orders_with_no_discount.Quantity, bins = 20, label = 'No Discount');\n",
    "sns.distplot(orders_with_discount.Quantity, bins = 20, label = 'Discount');\n",
    "plt.title('Distribution for Orders with Discount and Without');\n",
    "plt.legend();"
   ]
  },
  {
   "cell_type": "code",
   "execution_count": 6,
   "metadata": {},
   "outputs": [],
   "source": [
    "orders_with_discount.Discount = (orders_with_discount.StandardAmount- orders_with_discount.LineTotal)/ orders_with_discount.StandardAmount \n",
    "df_orders = orders_with_discount.append(orders_with_no_discount)\n",
    "hist, bin_edge = np.histogram(df_orders.Discount, bins= 3)\n",
    "#bin_edge[1]=.0725\n",
    "df_orders['BinnedDiscount'] = pd.cut(df_orders['Discount'], bin_edge)\n",
    "df_orders.BinnedDiscount = df_orders.BinnedDiscount.astype(str)\n",
    "df_orders.BinnedDiscount.loc[df_orders.BinnedDiscount == 'nan']= 'No Discount'\n",
    "df_orders = df_orders.sort_values('Discount')\n",
    "#type(orders_with_discount.BinnedDiscount[0])"
   ]
  },
  {
   "cell_type": "code",
   "execution_count": 7,
   "metadata": {
    "scrolled": true
   },
   "outputs": [
    {
     "data": {
      "text/plain": [
       "No Discount        613\n",
       "(0.0833, 0.167]    150\n",
       "(0.167, 0.25]      144\n",
       "(0.0, 0.0833]       86\n",
       "Name: BinnedDiscount, dtype: int64"
      ]
     },
     "execution_count": 7,
     "metadata": {},
     "output_type": "execute_result"
    }
   ],
   "source": [
    "df_orders.BinnedDiscount.value_counts()"
   ]
  },
  {
   "cell_type": "code",
   "execution_count": 8,
   "metadata": {},
   "outputs": [
    {
     "data": {
      "image/png": "[encoded data removed]",
      "text/plain": [
       "<Figure size 936x576 with 1 Axes>"
      ]
     },
     "metadata": {
      "needs_background": "light"
     },
     "output_type": "display_data"
    }
   ],
   "source": [
    "plt.figure(figsize= figsize)\n",
    "plt.title('Distribution of Quantity by Discount Level')\n",
    "sns.violinplot(x='Quantity', y= 'BinnedDiscount', data= df_orders);"
   ]
  },
  {
   "cell_type": "markdown",
   "metadata": {},
   "source": [
    "#### Check for normality- Sharpio-Welk test"
   ]
  },
  {
   "cell_type": "code",
   "execution_count": 9,
   "metadata": {},
   "outputs": [
    {
     "name": "stdout",
     "output_type": "stream",
     "text": [
      "non normal\n"
     ]
    },
    {
     "data": {
      "text/plain": [
       "'t 0.8211414813995361, p 7.739463034274397e-32'"
      ]
     },
     "execution_count": 9,
     "metadata": {},
     "output_type": "execute_result"
    }
   ],
   "source": [
    "func.shapiro_normal(df_orders.Quantity)\n",
    "#Overall quantity distribution"
   ]
  },
  {
   "cell_type": "code",
   "execution_count": 10,
   "metadata": {},
   "outputs": [
    {
     "name": "stdout",
     "output_type": "stream",
     "text": [
      "non normal\n"
     ]
    },
    {
     "data": {
      "text/plain": [
       "'t 0.7845940589904785, p 1.1666289823246571e-27'"
      ]
     },
     "execution_count": 10,
     "metadata": {},
     "output_type": "execute_result"
    }
   ],
   "source": [
    "func.shapiro_normal(df_orders.loc[df_orders.Discount == 0].Quantity)\n",
    "#Discount quantity distribution"
   ]
  },
  {
   "cell_type": "code",
   "execution_count": 11,
   "metadata": {},
   "outputs": [
    {
     "name": "stdout",
     "output_type": "stream",
     "text": [
      "non normal\n"
     ]
    },
    {
     "data": {
      "text/plain": [
       "'t 0.8644283413887024, p 1.0952017721170508e-17'"
      ]
     },
     "execution_count": 11,
     "metadata": {},
     "output_type": "execute_result"
    }
   ],
   "source": [
    "func.shapiro_normal(df_orders.loc[df_orders.Discount != 0].Quantity)\n",
    "#No discount quantity distribution"
   ]
  },
  {
   "cell_type": "code",
   "execution_count": 12,
   "metadata": {},
   "outputs": [
    {
     "name": "stdout",
     "output_type": "stream",
     "text": [
      "No Discount\n",
      "non normal\n",
      "t 0.7845940589904785, p 1.1666289823246571e-27\n",
      "(0.0833, 0.167]\n",
      "non normal\n",
      "t 0.8421576023101807, p 2.0802779637785207e-11\n",
      "(0.167, 0.25]\n",
      "non normal\n",
      "t 0.8608901500701904, p 2.496944873087159e-10\n",
      "(0.0, 0.0833]\n",
      "non normal\n",
      "t 0.8759969472885132, p 6.426521395042073e-07\n"
     ]
    }
   ],
   "source": [
    "for i in df_orders.BinnedDiscount.value_counts().index:\n",
    "    print(i)\n",
    "    print(func.shapiro_normal(df_orders.loc[df_orders.BinnedDiscount == i].Quantity))"
   ]
  },
  {
   "cell_type": "markdown",
   "metadata": {},
   "source": [
    "#### Test analysis\n",
    "The null hypothesis is that the tested distribution is normally distributed, and the alternative hypothesis is that the distribution is non-normal. A p values threshold is 0.05. \n",
    "\n",
    "The p values for the order data is below 0.05, so they are not normal. We will use bootstrapping take a sampling distribution of the means.  \n"
   ]
  },
  {
   "cell_type": "code",
   "execution_count": 13,
   "metadata": {},
   "outputs": [],
   "source": [
    "df_order_means = pd.DataFrame()\n",
    "aa = []\n",
    "bb = []"
   ]
  },
  {
   "cell_type": "code",
   "execution_count": 14,
   "metadata": {},
   "outputs": [],
   "source": [
    "for i in df_orders.BinnedDiscount.value_counts().index:\n",
    "    a = func.bootstrapping(df_orders.loc[df_orders.BinnedDiscount == i].Quantity, num_of_samples=df_orders.BinnedDiscount.value_counts().min())\n",
    "    b = [i for j in range(len(a))]\n",
    "    for j in a:\n",
    "        aa.append(j)\n",
    "        bb.append(i)\n",
    "    df_order_means[i] = a\n",
    "df_means = pd.DataFrame(aa, columns=['Quantity'])\n",
    "df_means['BinnedValue'] = bb"
   ]
  },
  {
   "cell_type": "code",
   "execution_count": 15,
   "metadata": {
    "scrolled": false
   },
   "outputs": [
    {
     "data": {
      "image/png": "[encoded data removed]",
      "text/plain": [
       "<Figure size 936x576 with 1 Axes>"
      ]
     },
     "metadata": {
      "needs_background": "light"
     },
     "output_type": "display_data"
    }
   ],
   "source": [
    "plt.figure(figsize= figsize)\n",
    "plt.title('Distribution of Quantity Means v. Discount Level')\n",
    "plt.xlabel('Quantity')\n",
    "for i in df_orders.BinnedDiscount.value_counts().index:\n",
    "    \n",
    "    sns.distplot(df_order_means[i], label= i,axlabel='Quantities Mean')\n",
    "    plt.legend()\n"
   ]
  },
  {
   "cell_type": "markdown",
   "metadata": {},
   "source": [
    "#### Check for normality- Sharpio-Welk test"
   ]
  },
  {
   "cell_type": "code",
   "execution_count": 16,
   "metadata": {
    "scrolled": true
   },
   "outputs": [
    {
     "name": "stdout",
     "output_type": "stream",
     "text": [
      "No Discount\n",
      "normal\n",
      "t 0.989066481590271, p 0.6916583776473999\n",
      "(0.0833, 0.167]\n",
      "normal\n",
      "t 0.9910159707069397, p 0.8244869709014893\n",
      "(0.167, 0.25]\n",
      "normal\n",
      "t 0.9828118085861206, p 0.31041231751441956\n",
      "(0.0, 0.0833]\n",
      "normal\n",
      "t 0.9735333919525146, p 0.0743236392736435\n"
     ]
    }
   ],
   "source": [
    "for i in df_orders.BinnedDiscount.value_counts().index:\n",
    "    print(i)\n",
    "    print(func.shapiro_normal(df_order_means[i]))"
   ]
  },
  {
   "cell_type": "markdown",
   "metadata": {},
   "source": [
    "#### Test analysis\n",
    "The null hypothesis is that the tested distribution is normally distributed, and the alternative hypothesis is that the distribution is non-normal. A p values threshold is 0.05. \n",
    "\n",
    "The p values for the bootstrap order data are above 0.05, so they are normal. \n"
   ]
  },
  {
   "cell_type": "markdown",
   "metadata": {},
   "source": [
    "#### Variance Test"
   ]
  },
  {
   "cell_type": "code",
   "execution_count": 17,
   "metadata": {},
   "outputs": [
    {
     "name": "stdout",
     "output_type": "stream",
     "text": [
      "No Discount compared to No Discount\n",
      "p = 1.0\n",
      "Therefore the data have equal variances\n",
      "True\n",
      "No Discount compared to (0.0833, 0.167]\n",
      "p = 2.3624068890208353e-08\n",
      "Therefore the data do not have equal variances\n",
      "False\n",
      "No Discount compared to (0.167, 0.25]\n",
      "p = 1.4940850533393439e-09\n",
      "Therefore the data do not have equal variances\n",
      "False\n",
      "No Discount compared to (0.0, 0.0833]\n",
      "p = 2.2265026744071246e-09\n",
      "Therefore the data do not have equal variances\n",
      "False\n"
     ]
    }
   ],
   "source": [
    "for i in df_orders.BinnedDiscount.value_counts().index:\n",
    "    print(f\"No Discount compared to {i}\")\n",
    "    print(func.levene_variances(df_order_means['No Discount'], df_order_means[i]))\n",
    "\n"
   ]
  },
  {
   "cell_type": "markdown",
   "metadata": {},
   "source": [
    "#### Test Analysis\n",
    "The null hypothesis is the variances of the two compared distribution are equal. The alternative hypothesis is the variances are not equal.\n",
    "\n",
    "The discounted sample means do not have equal variances with the other discount distribution."
   ]
  },
  {
   "cell_type": "markdown",
   "metadata": {},
   "source": [
    "#### Effect Size"
   ]
  },
  {
   "cell_type": "code",
   "execution_count": 18,
   "metadata": {},
   "outputs": [
    {
     "name": "stdout",
     "output_type": "stream",
     "text": [
      "No Discount compared to No Discount\n",
      "0.0\n",
      "No Discount compared to (0.0833, 0.167]\n",
      "4.1383338433632\n",
      "No Discount compared to (0.167, 0.25]\n",
      "4.19711479560407\n",
      "No Discount compared to (0.0, 0.0833]\n",
      "3.6021057606810687\n"
     ]
    }
   ],
   "source": [
    "for i in df_orders.BinnedDiscount.value_counts().index:\n",
    "    print(f\"No Discount compared to {i}\")\n",
    "    print(func.cohen_d(df_order_means[i], df_order_means['No Discount']))"
   ]
  },
  {
   "cell_type": "markdown",
   "metadata": {},
   "source": [
    "There is a fairly large effect size for No Discount versus no discount.\n"
   ]
  },
  {
   "cell_type": "markdown",
   "metadata": {},
   "source": [
    "###  Tukey Test"
   ]
  },
  {
   "cell_type": "code",
   "execution_count": 22,
   "metadata": {
    "scrolled": true
   },
   "outputs": [
    {
     "data": {
      "text/html": [
       "<div>\n",
       "<style scoped>\n",
       "    .dataframe tbody tr th:only-of-type {\n",
       "        vertical-align: middle;\n",
       "    }\n",
       "\n",
       "    .dataframe tbody tr th {\n",
       "        vertical-align: top;\n",
       "    }\n",
       "\n",
       "    .dataframe thead th {\n",
       "        text-align: right;\n",
       "    }\n",
       "</style>\n",
       "<table border=\"1\" class=\"dataframe\">\n",
       "  <thead>\n",
       "    <tr style=\"text-align: right;\">\n",
       "      <th></th>\n",
       "      <th>group1</th>\n",
       "      <th>group2</th>\n",
       "      <th>meandiff</th>\n",
       "      <th>lower</th>\n",
       "      <th>upper</th>\n",
       "      <th>reject</th>\n",
       "    </tr>\n",
       "  </thead>\n",
       "  <tbody>\n",
       "    <tr>\n",
       "      <th>0</th>\n",
       "      <td>(0.0, 0.0833]</td>\n",
       "      <td>(0.0833, 0.167]</td>\n",
       "      <td>-0.5406</td>\n",
       "      <td>-2.0713</td>\n",
       "      <td>0.9900</td>\n",
       "      <td>False</td>\n",
       "    </tr>\n",
       "    <tr>\n",
       "      <th>1</th>\n",
       "      <td>(0.0, 0.0833]</td>\n",
       "      <td>(0.167, 0.25]</td>\n",
       "      <td>0.1985</td>\n",
       "      <td>-1.3321</td>\n",
       "      <td>1.7292</td>\n",
       "      <td>False</td>\n",
       "    </tr>\n",
       "    <tr>\n",
       "      <th>2</th>\n",
       "      <td>(0.0, 0.0833]</td>\n",
       "      <td>No Discount</td>\n",
       "      <td>-13.2199</td>\n",
       "      <td>-14.7506</td>\n",
       "      <td>-11.6893</td>\n",
       "      <td>True</td>\n",
       "    </tr>\n",
       "    <tr>\n",
       "      <th>3</th>\n",
       "      <td>(0.0833, 0.167]</td>\n",
       "      <td>(0.167, 0.25]</td>\n",
       "      <td>0.7392</td>\n",
       "      <td>-0.7915</td>\n",
       "      <td>2.2698</td>\n",
       "      <td>False</td>\n",
       "    </tr>\n",
       "    <tr>\n",
       "      <th>4</th>\n",
       "      <td>(0.0833, 0.167]</td>\n",
       "      <td>No Discount</td>\n",
       "      <td>-12.6793</td>\n",
       "      <td>-14.2099</td>\n",
       "      <td>-11.1486</td>\n",
       "      <td>True</td>\n",
       "    </tr>\n",
       "    <tr>\n",
       "      <th>5</th>\n",
       "      <td>(0.167, 0.25]</td>\n",
       "      <td>No Discount</td>\n",
       "      <td>-13.4185</td>\n",
       "      <td>-14.9491</td>\n",
       "      <td>-11.8878</td>\n",
       "      <td>True</td>\n",
       "    </tr>\n",
       "  </tbody>\n",
       "</table>\n",
       "</div>"
      ],
      "text/plain": [
       "            group1           group2  meandiff    lower    upper  reject\n",
       "0    (0.0, 0.0833]  (0.0833, 0.167]   -0.5406  -2.0713   0.9900   False\n",
       "1    (0.0, 0.0833]    (0.167, 0.25]    0.1985  -1.3321   1.7292   False\n",
       "2    (0.0, 0.0833]      No Discount  -13.2199 -14.7506 -11.6893    True\n",
       "3  (0.0833, 0.167]    (0.167, 0.25]    0.7392  -0.7915   2.2698   False\n",
       "4  (0.0833, 0.167]      No Discount  -12.6793 -14.2099 -11.1486    True\n",
       "5    (0.167, 0.25]      No Discount  -13.4185 -14.9491 -11.8878    True"
      ]
     },
     "execution_count": 22,
     "metadata": {},
     "output_type": "execute_result"
    }
   ],
   "source": [
    "mc = MultiComparison(df_means.Quantity, df_means.BinnedValue)\n",
    "result = mc.tukeyhsd()\n",
    "result_df = pd.DataFrame(data=result._results_table.data[1:], columns=result._results_table.data[0])\n",
    "result_df\n"
   ]
  },
  {
   "cell_type": "markdown",
   "metadata": {},
   "source": [
    "### Test Analysis\n",
    "There are statistical difference in the means of the discounted order quantity versus non discounted orders. Also there was not a significant difference among the different levels of discounted orders. These results indicate that having a discount has an effect on the quantity of the purchase, but the level of the discount does not seem to have effect after discount is applied. "
   ]
  },
  {
   "cell_type": "code",
   "execution_count": 20,
   "metadata": {},
   "outputs": [
    {
     "data": {
      "text/plain": [
       "(59.78421052631579, 46.65415986949429, 13.130050656821496)"
      ]
     },
     "execution_count": 20,
     "metadata": {},
     "output_type": "execute_result"
    }
   ],
   "source": [
    "orders_with_discount.Quantity.mean(), orders_with_no_discount.Quantity.mean(), orders_with_discount.Quantity.mean()-orders_with_no_discount.Quantity.mean()"
   ]
  },
  {
   "cell_type": "markdown",
   "metadata": {},
   "source": [
    "There is a 13.1 quantity increase in the quantity with a discount. "
   ]
  },
  {
   "cell_type": "code",
   "execution_count": 21,
   "metadata": {},
   "outputs": [
    {
     "name": "stderr",
     "output_type": "stream",
     "text": [
      "[NbConvertApp] Converting notebook question1.ipynb to markdown\n",
      "[NbConvertApp] Support files will be in question1_files\\\n",
      "[NbConvertApp] Making directory question1_files\n",
      "[NbConvertApp] Making directory question1_files\n",
      "[NbConvertApp] Making directory question1_files\n",
      "[NbConvertApp] Writing 13658 bytes to question1.md\n"
     ]
    }
   ],
   "source": [
    "!jupyter nbconvert --to markdown question1"
   ]
  },
  {
   "cell_type": "code",
   "execution_count": null,
   "metadata": {},
   "outputs": [],
   "source": []
  }
 ],
 "metadata": {
  "kernelspec": {
   "display_name": "Python [conda env:.conda-learn-env] *",
   "language": "python",
   "name": "conda-env-.conda-learn-env-py"
  },
  "language_info": {
   "codemirror_mode": {
    "name": "ipython",
    "version": 3
   },
   "file_extension": ".py",
   "mimetype": "text/x-python",
   "name": "python",
   "nbconvert_exporter": "python",
   "pygments_lexer": "ipython3",
   "version": "3.6.6"
  }
 },
 "nbformat": 4,
 "nbformat_minor": 2
}
