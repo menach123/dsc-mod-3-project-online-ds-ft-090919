{
 "cells": [
  {
   "cell_type": "markdown",
   "metadata": {},
   "source": [
    "### Question 3\n",
    "Does the Northwind Customer database conform to the 80/20 rule, 80% of your sales is accounted for by 20% of your customers. \n",
    "\n",
    "We will answer this question by first determining if there is a statistically significant difference in the mean revenue of the top 20 percentile of customers by total revenue and that of all the customers. \n"
   ]
  },
  {
   "cell_type": "markdown",
   "metadata": {},
   "source": [
    "### Importing Python Module "
   ]
  },
  {
   "cell_type": "code",
   "execution_count": 1,
   "metadata": {},
   "outputs": [
    {
     "name": "stdout",
     "output_type": "stream",
     "text": [
      "ip\n"
     ]
    }
   ],
   "source": [
    "from importlib import reload\n",
    "\n",
    "import numpy as np\n",
    "import pandas as pd\n",
    "\n",
    "import sqlite3\n",
    "\n",
    "# Removing red warnings\n",
    "import warnings\n",
    "warnings.filterwarnings('ignore')\n",
    "\n",
    "# Power Analysis\n",
    "from statsmodels.stats.power import tt_ind_solve_power,ttest_power\n",
    "\n",
    "#For tukey test\n",
    "from statsmodels.stats.multicomp import pairwise_tukeyhsd\n",
    "from statsmodels.stats.multicomp import MultiComparison\n",
    "\n",
    "#\n",
    "import seaborn as sns\n",
    "import matplotlib.pyplot as plt\n",
    "import matplotlib.ticker as ticker\n",
    "plt.style.use('ggplot')\n",
    "figsize = (13,8)\n",
    "\n",
    "import function as func\n",
    "\n",
    "import scipy.stats as scs\n"
   ]
  },
  {
   "cell_type": "code",
   "execution_count": 2,
   "metadata": {},
   "outputs": [],
   "source": [
    "conn = func.MyConn(filename= 'Northwind_small.sqlite')"
   ]
  },
  {
   "cell_type": "code",
   "execution_count": 3,
   "metadata": {},
   "outputs": [],
   "source": [
    "query =  \"\"\"\n",
    "            SELECT o.ID, CustomerID, ProductID, Quantity, Discount, UnitPrice\n",
    "            FROM 'Order' as o\n",
    "            JOIN 'OrderDetail' as od\n",
    "            on o.ID = od.OrderID \n",
    "        \"\"\"\n"
   ]
  },
  {
   "cell_type": "code",
   "execution_count": 4,
   "metadata": {},
   "outputs": [],
   "source": [
    "df = conn.load_query_as_df(query)\n",
    "# Line total\n",
    "df['LineTotal'] = df.UnitPrice* df.Quantity"
   ]
  },
  {
   "cell_type": "code",
   "execution_count": 5,
   "metadata": {},
   "outputs": [
    {
     "data": {
      "text/html": [
       "<div>\n",
       "<style scoped>\n",
       "    .dataframe tbody tr th:only-of-type {\n",
       "        vertical-align: middle;\n",
       "    }\n",
       "\n",
       "    .dataframe tbody tr th {\n",
       "        vertical-align: top;\n",
       "    }\n",
       "\n",
       "    .dataframe thead th {\n",
       "        text-align: right;\n",
       "    }\n",
       "</style>\n",
       "<table border=\"1\" class=\"dataframe\">\n",
       "  <thead>\n",
       "    <tr style=\"text-align: right;\">\n",
       "      <th></th>\n",
       "      <th>Quantity</th>\n",
       "      <th>Revenue</th>\n",
       "    </tr>\n",
       "    <tr>\n",
       "      <th>CustomerId</th>\n",
       "      <th></th>\n",
       "      <th></th>\n",
       "    </tr>\n",
       "  </thead>\n",
       "  <tbody>\n",
       "    <tr>\n",
       "      <th>ALFKI</th>\n",
       "      <td>174</td>\n",
       "      <td>4596.20</td>\n",
       "    </tr>\n",
       "    <tr>\n",
       "      <th>ANATR</th>\n",
       "      <td>63</td>\n",
       "      <td>1402.95</td>\n",
       "    </tr>\n",
       "    <tr>\n",
       "      <th>ANTO</th>\n",
       "      <td>359</td>\n",
       "      <td>7515.35</td>\n",
       "    </tr>\n",
       "    <tr>\n",
       "      <th>AROUT</th>\n",
       "      <td>650</td>\n",
       "      <td>13806.50</td>\n",
       "    </tr>\n",
       "    <tr>\n",
       "      <th>BERGS</th>\n",
       "      <td>1001</td>\n",
       "      <td>26968.15</td>\n",
       "    </tr>\n",
       "  </tbody>\n",
       "</table>\n",
       "</div>"
      ],
      "text/plain": [
       "            Quantity   Revenue\n",
       "CustomerId                    \n",
       "ALFKI            174   4596.20\n",
       "ANATR             63   1402.95\n",
       "ANTO             359   7515.35\n",
       "AROUT            650  13806.50\n",
       "BERGS           1001  26968.15"
      ]
     },
     "execution_count": 5,
     "metadata": {},
     "output_type": "execute_result"
    }
   ],
   "source": [
    "columns = ['Quantity', 'LineTotal']\n",
    "df_customer = df.groupby('CustomerId')[columns].sum()\n",
    "df_customer = df_customer.rename(columns= {'LineTotal':'Revenue'})\n",
    "df_customer.head()"
   ]
  },
  {
   "cell_type": "code",
   "execution_count": 6,
   "metadata": {},
   "outputs": [],
   "source": [
    "df_customer['Top20']= df_customer.Revenue >=df_customer.Revenue.quantile(.8)\n"
   ]
  },
  {
   "cell_type": "code",
   "execution_count": 7,
   "metadata": {},
   "outputs": [
    {
     "data": {
      "image/png": "[encoded data removed]",
      "text/plain": [
       "<Figure size 936x576 with 1 Axes>"
      ]
     },
     "metadata": {
      "needs_background": "light"
     },
     "output_type": "display_data"
    }
   ],
   "source": [
    "func.plotset(title='Total Revenue Comparing the Top 20% of Customers to Rest')\n",
    "df_customer.groupby('Top20').Revenue.sum().plot(kind='bar')\n",
    "plt.ylabel('Revenue ($)');"
   ]
  },
  {
   "cell_type": "code",
   "execution_count": 8,
   "metadata": {
    "scrolled": true
   },
   "outputs": [
    {
     "data": {
      "text/html": [
       "<div>\n",
       "<style scoped>\n",
       "    .dataframe tbody tr th:only-of-type {\n",
       "        vertical-align: middle;\n",
       "    }\n",
       "\n",
       "    .dataframe tbody tr th {\n",
       "        vertical-align: top;\n",
       "    }\n",
       "\n",
       "    .dataframe thead th {\n",
       "        text-align: right;\n",
       "    }\n",
       "</style>\n",
       "<table border=\"1\" class=\"dataframe\">\n",
       "  <thead>\n",
       "    <tr style=\"text-align: right;\">\n",
       "      <th></th>\n",
       "      <th>Quantity</th>\n",
       "      <th>Revenue</th>\n",
       "    </tr>\n",
       "    <tr>\n",
       "      <th>Top20</th>\n",
       "      <th></th>\n",
       "      <th></th>\n",
       "    </tr>\n",
       "  </thead>\n",
       "  <tbody>\n",
       "    <tr>\n",
       "      <th>False</th>\n",
       "      <td>71</td>\n",
       "      <td>71</td>\n",
       "    </tr>\n",
       "    <tr>\n",
       "      <th>True</th>\n",
       "      <td>18</td>\n",
       "      <td>18</td>\n",
       "    </tr>\n",
       "  </tbody>\n",
       "</table>\n",
       "</div>"
      ],
      "text/plain": [
       "       Quantity  Revenue\n",
       "Top20                   \n",
       "False        71       71\n",
       "True         18       18"
      ]
     },
     "execution_count": 8,
     "metadata": {},
     "output_type": "execute_result"
    }
   ],
   "source": [
    "df_customer.groupby('Top20').count()"
   ]
  },
  {
   "cell_type": "code",
   "execution_count": 9,
   "metadata": {
    "scrolled": true
   },
   "outputs": [
    {
     "data": {
      "text/plain": [
       "0.6073187442371346"
      ]
     },
     "execution_count": 9,
     "metadata": {},
     "output_type": "execute_result"
    }
   ],
   "source": [
    "df_customer.loc[df_customer.Revenue >=df_customer.Revenue.quantile(.8)].Revenue.sum()/ df_customer.Revenue.sum()"
   ]
  },
  {
   "cell_type": "code",
   "execution_count": 10,
   "metadata": {},
   "outputs": [
    {
     "data": {
      "image/png": "[encoded data removed]",
      "text/plain": [
       "<Figure size 936x576 with 1 Axes>"
      ]
     },
     "metadata": {
      "needs_background": "light"
     },
     "output_type": "display_data"
    }
   ],
   "source": [
    "func.plotset(title= 'Distribution of Revenue by Customer');\n",
    "sns.distplot(df_customer.Revenue, label='All');\n",
    "sns.distplot(df_customer.loc[df_customer.Top20 == False].Revenue, color='green', label= 'Bottom 80%');\n",
    "sns.distplot(df_customer.loc[df_customer.Top20 == True].Revenue, color='blue', label= 'Top 20%', bins= 20);\n",
    "plt.legend();"
   ]
  },
  {
   "cell_type": "code",
   "execution_count": 11,
   "metadata": {},
   "outputs": [
    {
     "data": {
      "text/plain": [
       "45699.33833333333"
      ]
     },
     "execution_count": 11,
     "metadata": {},
     "output_type": "execute_result"
    }
   ],
   "source": [
    "df_customer.loc[df_customer.Top20 == True].Revenue.mean()"
   ]
  },
  {
   "cell_type": "markdown",
   "metadata": {},
   "source": [
    "#### Normalilty Shapiro Welk Test"
   ]
  },
  {
   "cell_type": "code",
   "execution_count": 12,
   "metadata": {
    "scrolled": true
   },
   "outputs": [
    {
     "name": "stdout",
     "output_type": "stream",
     "text": [
      "False\n",
      "non normal\n",
      "t 0.8955289721488953, p 2.296842467330862e-05\n",
      "True\n",
      "non normal\n",
      "t 0.6525330543518066, p 2.3559050532639958e-05\n"
     ]
    }
   ],
   "source": [
    "for i in df_customer.Top20.value_counts().index:\n",
    "    print(i)\n",
    "    print(func.shapiro_normal(df_customer.loc[df_customer.Top20 == i].Revenue))"
   ]
  },
  {
   "cell_type": "markdown",
   "metadata": {},
   "source": [
    "#### Test analysis\n",
    "The null hypothesis is that the tested distribution is normally distributed, and the alternative hypothesis is that the distribution is non-normal. A p values threshold is 0.05.\n",
    "\n",
    "*Null hypothesis was rejected.* The p-values are below the threshold, so the distrbutions are non normal. Will bootstrap."
   ]
  },
  {
   "cell_type": "code",
   "execution_count": 13,
   "metadata": {
    "scrolled": false
   },
   "outputs": [
    {
     "data": {
      "image/png": "[encoded data removed]",
      "text/plain": [
       "<Figure size 936x576 with 1 Axes>"
      ]
     },
     "metadata": {
      "needs_background": "light"
     },
     "output_type": "display_data"
    }
   ],
   "source": [
    "\n",
    "total = func.bootstrapping(df_customer.Revenue, num_of_samples=89)\n",
    "Top20 = func.bootstrapping(df_customer.loc[df_customer.Top20 == True].Revenue, num_of_samples=18)\n",
    "Bottom80 = func.bootstrapping(df_customer.loc[df_customer.Top20 == False].Revenue, num_of_samples=71)\n",
    "func.plotset(title= 'Distribution of Sample Mean of Revenue by Customer');\n",
    "sns.distplot(total, label='All Sample');\n",
    "sns.distplot(Bottom80, color='green', label= 'Bottom 80%');\n",
    "sns.distplot(Top20, color='blue', label= 'Top 20%', bins= 20);\n",
    "plt.legend();"
   ]
  },
  {
   "cell_type": "code",
   "execution_count": 14,
   "metadata": {},
   "outputs": [
    {
     "data": {
      "text/plain": [
       "15218.63584269663"
      ]
     },
     "execution_count": 14,
     "metadata": {},
     "output_type": "execute_result"
    }
   ],
   "source": [
    "df_customer.Revenue.mean()"
   ]
  },
  {
   "cell_type": "markdown",
   "metadata": {},
   "source": [
    "#### Normalilty Shapiro Welk Test"
   ]
  },
  {
   "cell_type": "code",
   "execution_count": 15,
   "metadata": {
    "scrolled": true
   },
   "outputs": [
    {
     "name": "stdout",
     "output_type": "stream",
     "text": [
      "Total\n",
      "normal\n",
      "t 0.9845062494277954, p 0.37095606327056885\n",
      "Bottom 80%\n",
      "normal\n",
      "t 0.9890205264091492, p 0.7960888743400574\n",
      "Top 20%\n",
      "normal\n",
      "t 0.966257631778717, p 0.7251107096672058\n"
     ]
    }
   ],
   "source": [
    "print('Total')\n",
    "print(func.shapiro_normal(total))\n",
    "print('Bottom 80%')\n",
    "print(func.shapiro_normal(Bottom80))\n",
    "print('Top 20%')\n",
    "print(func.shapiro_normal(Top20))"
   ]
  },
  {
   "cell_type": "markdown",
   "metadata": {},
   "source": [
    "#### Equal Variance"
   ]
  },
  {
   "cell_type": "code",
   "execution_count": 25,
   "metadata": {},
   "outputs": [
    {
     "name": "stdout",
     "output_type": "stream",
     "text": [
      "p = 1.0392084009178214e-11\n",
      "Therefore the data do not have equal variances\n"
     ]
    },
    {
     "data": {
      "text/plain": [
       "False"
      ]
     },
     "execution_count": 25,
     "metadata": {},
     "output_type": "execute_result"
    }
   ],
   "source": [
    "func.levene_variances(Top20, total)"
   ]
  },
  {
   "cell_type": "markdown",
   "metadata": {},
   "source": [
    "#### Test Analysis\n",
    "The null hypothesis is that the tested distribution is normally distributed, and the alternative hypothesis is that the distribution is non-normal. A p values threshold is 0.05.\n",
    "\n",
    "*Null hypothesis was not rejected for all samples.* The p-values are below the threshold, so the distrbutions are normal. "
   ]
  },
  {
   "cell_type": "markdown",
   "metadata": {},
   "source": [
    "#### Welch T-test "
   ]
  },
  {
   "cell_type": "code",
   "execution_count": 24,
   "metadata": {},
   "outputs": [
    {
     "name": "stdout",
     "output_type": "stream",
     "text": [
      "Top20 compared to Total\n",
      "Ttest_indResult(statistic=-14.950287169424096, pvalue=1.9845001084903893e-11)\n",
      "Bottom80 compared to Total\n",
      "Ttest_indResult(statistic=28.372162696606768, pvalue=1.1921964340905563e-50)\n",
      "Bottom80 compared to Top2\n",
      "Ttest_indResult(statistic=18.869065968367888, pvalue=7.312704637518208e-13)\n"
     ]
    }
   ],
   "source": [
    "print('Top20 compared to Total')\n",
    "print(scs.ttest_ind(total,Top20, equal_var=False))\n",
    "print('Bottom80 compared to Total')\n",
    "print(scs.ttest_ind(total,Bottom80, equal_var=False))\n",
    "print('Bottom80 compared to Top2')\n",
    "print(scs.ttest_ind(Top20,Bottom80, equal_var=False))"
   ]
  },
  {
   "cell_type": "markdown",
   "metadata": {},
   "source": [
    "#### Test analysis\n",
    "*Rejected the null hypothesis*(the sample means are identical)"
   ]
  },
  {
   "cell_type": "markdown",
   "metadata": {},
   "source": [
    "#### Effect Size"
   ]
  },
  {
   "cell_type": "code",
   "execution_count": 16,
   "metadata": {},
   "outputs": [
    {
     "data": {
      "text/plain": [
       "7.401363764370244"
      ]
     },
     "execution_count": 16,
     "metadata": {},
     "output_type": "execute_result"
    }
   ],
   "source": [
    "effect_size = func.cohen_d(Top20, total)\n",
    "effect_size"
   ]
  },
  {
   "cell_type": "code",
   "execution_count": 17,
   "metadata": {},
   "outputs": [
    {
     "data": {
      "text/plain": [
       "1.0"
      ]
     },
     "execution_count": 17,
     "metadata": {},
     "output_type": "execute_result"
    }
   ],
   "source": [
    "tt_ind_solve_power(effect_size=effect_size, nobs1=18, alpha=0.5)"
   ]
  },
  {
   "cell_type": "code",
   "execution_count": 18,
   "metadata": {},
   "outputs": [
    {
     "name": "stdout",
     "output_type": "stream",
     "text": [
      "15218.63584269663\n",
      "45699.33833333333\n",
      "30480.7024906367\n"
     ]
    }
   ],
   "source": [
    "print(np.mean(df_customer.Revenue)) \n",
    "print(np.mean(df_customer.loc[df_customer.Top20].Revenue))\n",
    "print(np.mean(df_customer.loc[df_customer.Top20].Revenue) - np.mean(df_customer.Revenue))"
   ]
  },
  {
   "cell_type": "markdown",
   "metadata": {},
   "source": [
    "### Conclusion \n",
    "There a statistically significant difference in the mean revenue of the top 20 percentile of customers by total revenue and that of all the customers. There is a $30,480.70 positive increase the average revenue of the whole customer base to the average revenue  among the top 20% of customers. \n"
   ]
  },
  {
   "cell_type": "code",
   "execution_count": 19,
   "metadata": {
    "scrolled": false
   },
   "outputs": [
    {
     "data": {
      "image/png": "[encoded data removed]",
      "text/plain": [
       "<Figure size 936x576 with 1 Axes>"
      ]
     },
     "metadata": {
      "needs_background": "light"
     },
     "output_type": "display_data"
    },
    {
     "name": "stdout",
     "output_type": "stream",
     "text": [
      "60.73% of the Revenues are from the Top 20%\n"
     ]
    }
   ],
   "source": [
    "a = round(df_customer.loc[df_customer.Top20 == True].Revenue.sum()/df_customer.Revenue.sum(), 4)*100\n",
    "\n",
    "func.plotset(title='Total Revenue Comparing the Top 20% of Customers to Rest')\n",
    "df_customer.groupby('Top20').Revenue.sum().plot(kind='bar')\n",
    "plt.ylabel('Revenue ($)');\n",
    "plt.show()\n",
    "print(f'{a}% of the Revenues are from the Top 20%')"
   ]
  },
  {
   "cell_type": "markdown",
   "metadata": {},
   "source": [
    "Only 60.73% of the revenues come from the top 20 % , but it does show the importance on focusing on the "
   ]
  },
  {
   "cell_type": "code",
   "execution_count": 20,
   "metadata": {
    "scrolled": true
   },
   "outputs": [
    {
     "name": "stderr",
     "output_type": "stream",
     "text": [
      "[NbConvertApp] Converting notebook question3.ipynb to markdown\n",
      "[NbConvertApp] Support files will be in question3_files\\\n",
      "[NbConvertApp] Making directory question3_files\n",
      "[NbConvertApp] Making directory question3_files\n",
      "[NbConvertApp] Making directory question3_files\n",
      "[NbConvertApp] Making directory question3_files\n",
      "[NbConvertApp] Writing 8206 bytes to question3.md\n"
     ]
    }
   ],
   "source": [
    "!jupyter nbconvert --to markdown question3"
   ]
  },
  {
   "cell_type": "code",
   "execution_count": null,
   "metadata": {
    "scrolled": true
   },
   "outputs": [],
   "source": []
  }
 ],
 "metadata": {
  "kernelspec": {
   "display_name": "Python [conda env:.conda-learn-env] *",
   "language": "python",
   "name": "conda-env-.conda-learn-env-py"
  },
  "language_info": {
   "codemirror_mode": {
    "name": "ipython",
    "version": 3
   },
   "file_extension": ".py",
   "mimetype": "text/x-python",
   "name": "python",
   "nbconvert_exporter": "python",
   "pygments_lexer": "ipython3",
   "version": "3.6.6"
  }
 },
 "nbformat": 4,
 "nbformat_minor": 2
}
