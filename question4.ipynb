{
 "cells": [
  {
   "cell_type": "markdown",
   "metadata": {},
   "source": [
    "### Question 4\n",
    "Are discontinued items have a difference discount rate compared to the rest of the items?"
   ]
  },
  {
   "cell_type": "markdown",
   "metadata": {},
   "source": [
    "### Importing Python Module "
   ]
  },
  {
   "cell_type": "code",
   "execution_count": 1,
   "metadata": {},
   "outputs": [
    {
     "name": "stdout",
     "output_type": "stream",
     "text": [
      "ip\n"
     ]
    }
   ],
   "source": [
    "from importlib import reload\n",
    "\n",
    "import numpy as np\n",
    "import pandas as pd\n",
    "\n",
    "import sqlite3\n",
    "\n",
    "# Removing red warnings\n",
    "import warnings\n",
    "warnings.filterwarnings('ignore')\n",
    "\n",
    "# Power Analysis\n",
    "from statsmodels.stats.power import tt_ind_solve_power,ttest_power\n",
    "\n",
    "#For tukey test\n",
    "from statsmodels.stats.multicomp import pairwise_tukeyhsd\n",
    "from statsmodels.stats.multicomp import MultiComparison\n",
    "\n",
    "#\n",
    "import seaborn as sns\n",
    "import matplotlib.pyplot as plt\n",
    "plt.style.use('ggplot')\n",
    "figsize = (13,8)\n",
    "\n",
    "import function as func\n",
    "\n",
    "import scipy.stats as scs\n"
   ]
  },
  {
   "cell_type": "code",
   "execution_count": 2,
   "metadata": {},
   "outputs": [],
   "source": [
    "conn = func.MyConn(filename= 'Northwind_small.sqlite')"
   ]
  },
  {
   "cell_type": "code",
   "execution_count": 3,
   "metadata": {},
   "outputs": [],
   "source": [
    "query =  \"\"\"\n",
    "            SELECT o.OrderDate, od.UnitPrice, od.Quantity, p.Discontinued, od.Discount\n",
    "            from OrderDetail as od\n",
    "            join 'Order' as o\n",
    "            on o.Id = od.OrderId\n",
    "            join Product as p\n",
    "            on p.Id = od.ProductId\n",
    "        \"\"\"\n"
   ]
  },
  {
   "cell_type": "code",
   "execution_count": 4,
   "metadata": {},
   "outputs": [
    {
     "data": {
      "text/plain": [
       "['Id', 'OrderId', 'ProductId', 'UnitPrice', 'Quantity', 'Discount']"
      ]
     },
     "execution_count": 4,
     "metadata": {},
     "output_type": "execute_result"
    }
   ],
   "source": [
    "conn.get_table_description(table_name='OrderDetail')"
   ]
  },
  {
   "cell_type": "code",
   "execution_count": 5,
   "metadata": {
    "scrolled": false
   },
   "outputs": [
    {
     "data": {
      "text/html": [
       "<div>\n",
       "<style scoped>\n",
       "    .dataframe tbody tr th:only-of-type {\n",
       "        vertical-align: middle;\n",
       "    }\n",
       "\n",
       "    .dataframe tbody tr th {\n",
       "        vertical-align: top;\n",
       "    }\n",
       "\n",
       "    .dataframe thead th {\n",
       "        text-align: right;\n",
       "    }\n",
       "</style>\n",
       "<table border=\"1\" class=\"dataframe\">\n",
       "  <thead>\n",
       "    <tr style=\"text-align: right;\">\n",
       "      <th></th>\n",
       "      <th>OrderDate</th>\n",
       "      <th>UnitPrice</th>\n",
       "      <th>Quantity</th>\n",
       "      <th>Discontinued</th>\n",
       "      <th>Discount</th>\n",
       "      <th>Total</th>\n",
       "      <th>DateTimeOrder</th>\n",
       "      <th>YrMonth</th>\n",
       "      <th>Count</th>\n",
       "    </tr>\n",
       "  </thead>\n",
       "  <tbody>\n",
       "    <tr>\n",
       "      <th>0</th>\n",
       "      <td>2012-07-04</td>\n",
       "      <td>14.0</td>\n",
       "      <td>12</td>\n",
       "      <td>0</td>\n",
       "      <td>0.0</td>\n",
       "      <td>168.0</td>\n",
       "      <td>2012-07-04</td>\n",
       "      <td>2012-07</td>\n",
       "      <td>1</td>\n",
       "    </tr>\n",
       "    <tr>\n",
       "      <th>1</th>\n",
       "      <td>2012-07-04</td>\n",
       "      <td>9.8</td>\n",
       "      <td>10</td>\n",
       "      <td>1</td>\n",
       "      <td>0.0</td>\n",
       "      <td>98.0</td>\n",
       "      <td>2012-07-04</td>\n",
       "      <td>2012-07</td>\n",
       "      <td>1</td>\n",
       "    </tr>\n",
       "    <tr>\n",
       "      <th>2</th>\n",
       "      <td>2012-07-04</td>\n",
       "      <td>34.8</td>\n",
       "      <td>5</td>\n",
       "      <td>0</td>\n",
       "      <td>0.0</td>\n",
       "      <td>174.0</td>\n",
       "      <td>2012-07-04</td>\n",
       "      <td>2012-07</td>\n",
       "      <td>1</td>\n",
       "    </tr>\n",
       "    <tr>\n",
       "      <th>3</th>\n",
       "      <td>2012-07-05</td>\n",
       "      <td>18.6</td>\n",
       "      <td>9</td>\n",
       "      <td>0</td>\n",
       "      <td>0.0</td>\n",
       "      <td>167.4</td>\n",
       "      <td>2012-07-05</td>\n",
       "      <td>2012-07</td>\n",
       "      <td>1</td>\n",
       "    </tr>\n",
       "    <tr>\n",
       "      <th>4</th>\n",
       "      <td>2012-07-05</td>\n",
       "      <td>42.4</td>\n",
       "      <td>40</td>\n",
       "      <td>0</td>\n",
       "      <td>0.0</td>\n",
       "      <td>1696.0</td>\n",
       "      <td>2012-07-05</td>\n",
       "      <td>2012-07</td>\n",
       "      <td>1</td>\n",
       "    </tr>\n",
       "  </tbody>\n",
       "</table>\n",
       "</div>"
      ],
      "text/plain": [
       "    OrderDate  UnitPrice  Quantity  Discontinued  Discount   Total  \\\n",
       "0  2012-07-04       14.0        12             0       0.0   168.0   \n",
       "1  2012-07-04        9.8        10             1       0.0    98.0   \n",
       "2  2012-07-04       34.8         5             0       0.0   174.0   \n",
       "3  2012-07-05       18.6         9             0       0.0   167.4   \n",
       "4  2012-07-05       42.4        40             0       0.0  1696.0   \n",
       "\n",
       "  DateTimeOrder  YrMonth  Count  \n",
       "0    2012-07-04  2012-07      1  \n",
       "1    2012-07-04  2012-07      1  \n",
       "2    2012-07-04  2012-07      1  \n",
       "3    2012-07-05  2012-07      1  \n",
       "4    2012-07-05  2012-07      1  "
      ]
     },
     "execution_count": 5,
     "metadata": {},
     "output_type": "execute_result"
    }
   ],
   "source": [
    "df = conn.load_query_as_df(query)\n",
    "df['Total'] = df.Quantity* df.UnitPrice\n",
    "df['DateTimeOrder'] = pd.to_datetime(df.OrderDate)\n",
    "df['YrMonth'] = df.OrderDate.apply(lambda x: x[:7])\n",
    "df['Count'] = df.OrderDate.apply(lambda x:1)\n",
    "df.head()"
   ]
  },
  {
   "cell_type": "code",
   "execution_count": 6,
   "metadata": {
    "scrolled": false
   },
   "outputs": [
    {
     "data": {
      "image/png": "[encoded data removed]",
      "text/plain": [
       "<Figure size 936x576 with 1 Axes>"
      ]
     },
     "metadata": {
      "needs_background": "light"
     },
     "output_type": "display_data"
    }
   ],
   "source": [
    "func.plotset(title= 'Total Month Revenue\\nDiscounted')\n",
    "\n",
    "df.loc[df.Discontinued == 1].loc[df.Discount > 0].groupby('YrMonth').sum().Total.plot(kind='bar', color='red', \n",
    "                                                                                      alpha =1, label='Discounted');\n",
    "df.loc[df.Discontinued == 1].loc[df.Discount >= 0\n",
    "                                ].groupby('YrMonth').sum().Total.plot(kind='bar', color='blue', \n",
    "                                                                      alpha =0.5, label= 'Total');\n",
    "plt.legend();\n"
   ]
  },
  {
   "cell_type": "code",
   "execution_count": 7,
   "metadata": {},
   "outputs": [
    {
     "data": {
      "image/png": "[encoded data removed]",
      "text/plain": [
       "<Figure size 936x576 with 1 Axes>"
      ]
     },
     "metadata": {
      "needs_background": "light"
     },
     "output_type": "display_data"
    }
   ],
   "source": [
    "func.plotset(title= 'Total Month Revenue\\nCurrent Items')\n",
    "df.loc[df.Discontinued == 0].loc[df.Discount > 0].groupby('YrMonth').sum().Total.plot(kind='bar', color='red', \n",
    "                                                                                      alpha =1, label='Discounted');\n",
    "df.loc[df.Discontinued == 0].loc[df.Discount >= 0].groupby('YrMonth').sum().Total.plot(kind='bar', color='blue', \n",
    "                                                                                       alpha =0.5, label='Total');\n",
    "plt.legend();"
   ]
  },
  {
   "cell_type": "code",
   "execution_count": 8,
   "metadata": {},
   "outputs": [
    {
     "data": {
      "image/png": "[encoded data removed]",
      "text/plain": [
       "<Figure size 936x576 with 1 Axes>"
      ]
     },
     "metadata": {
      "needs_background": "light"
     },
     "output_type": "display_data"
    }
   ],
   "source": [
    "func.plotset(title= 'Total Month Revenue\\nAll Items')\n",
    "df.loc[df.Discount > 0].groupby('YrMonth').sum().Total.plot(kind='bar', color='red', alpha =1, label='Discounted');\n",
    "df.loc[df.Discount >= 0].groupby('YrMonth').sum().Total.plot(kind='bar', color='blue', alpha =0.5, label='Total');\n",
    "plt.legend();"
   ]
  },
  {
   "cell_type": "code",
   "execution_count": 9,
   "metadata": {
    "scrolled": false
   },
   "outputs": [
    {
     "data": {
      "image/png": "[encoded data removed]",
      "text/plain": [
       "<Figure size 936x576 with 1 Axes>"
      ]
     },
     "metadata": {
      "needs_background": "light"
     },
     "output_type": "display_data"
    }
   ],
   "source": [
    "a = df.groupby(['Discount'])['Count', 'Discontinued'].sum()\n",
    "a = a.rename(columns={'Count':'All'})\n",
    "ax = a.plot.bar(figsize=(13,8));\n",
    "plt.title('Distribution of Discounts');\n",
    "plt.ylabel('Count');\n"
   ]
  },
  {
   "cell_type": "markdown",
   "metadata": {},
   "source": [
    "#### Check for normality- Sharpio-Welk test\n",
    "\n"
   ]
  },
  {
   "cell_type": "code",
   "execution_count": 10,
   "metadata": {
    "scrolled": true
   },
   "outputs": [
    {
     "name": "stdout",
     "output_type": "stream",
     "text": [
      "All\n",
      "non normal\n",
      "t 0.6950738430023193, p 0.0\n",
      "Discontinued\n",
      "non normal\n",
      "t 0.6778910160064697, p 1.3102864828060304e-20\n",
      "Normal\n",
      "non normal\n",
      "t 0.6968779563903809, p 0.0\n"
     ]
    }
   ],
   "source": [
    "print('All')\n",
    "print(func.shapiro_normal(df.Discount))\n",
    "print('Discontinued')\n",
    "print(func.shapiro_normal(df.loc[df.Discontinued == 1].Discount))\n",
    "print('Normal')\n",
    "print(func.shapiro_normal(df.loc[df.Discontinued == 0].Discount))"
   ]
  },
  {
   "cell_type": "code",
   "execution_count": null,
   "metadata": {},
   "outputs": [],
   "source": []
  },
  {
   "cell_type": "markdown",
   "metadata": {},
   "source": [
    "#### Test analysis\n",
    "The null hypothesis is that the tested distribution is normally distributed, and the alternative hypothesis is that the distribution is non-normal. A p values threshold is 0.05.\n",
    "\n",
    "Reject the null hypothesis. All 3 distrbutions are non normal. Will use bootstrapping and will examine sample means."
   ]
  },
  {
   "cell_type": "code",
   "execution_count": 11,
   "metadata": {},
   "outputs": [],
   "source": [
    "all_sample_mean = func.bootstrapping(df.Discount, num_of_samples=1000)"
   ]
  },
  {
   "cell_type": "code",
   "execution_count": 12,
   "metadata": {},
   "outputs": [],
   "source": [
    "discontinued_sample_mean = func.bootstrapping(df.loc[df.Discontinued == 1].Discount, \n",
    "                                          num_of_samples=1000)"
   ]
  },
  {
   "cell_type": "code",
   "execution_count": 13,
   "metadata": {},
   "outputs": [],
   "source": [
    "normal_sample_mean = func.bootstrapping(df.loc[df.Discontinued == 0].Discount,\n",
    "                                        num_of_samples=1000)"
   ]
  },
  {
   "cell_type": "code",
   "execution_count": 29,
   "metadata": {},
   "outputs": [
    {
     "data": {
      "image/png": "[encoded data removed]",
      "text/plain": [
       "<Figure size 936x576 with 1 Axes>"
      ]
     },
     "metadata": {
      "needs_background": "light"
     },
     "output_type": "display_data"
    }
   ],
   "source": [
    "func.plotset(title='Distribution of Sample Mean Discount Rates');\n",
    "sns.distplot(all_sample_mean, label='Total', color='red');\n",
    "sns.distplot(discontinued_sample_mean, label='Discontinued', color='blue');\n",
    "sns.distplot(normal_sample_mean, label='Normal',color='black');"
   ]
  },
  {
   "cell_type": "markdown",
   "metadata": {},
   "source": [
    "#### Check for normality- Sharpio-Welk test\n",
    "\n"
   ]
  },
  {
   "cell_type": "code",
   "execution_count": 15,
   "metadata": {
    "scrolled": true
   },
   "outputs": [
    {
     "name": "stdout",
     "output_type": "stream",
     "text": [
      "All\n",
      "non normal\n",
      "t 0.9964560270309448, p 0.023196538910269737\n",
      "Discontinued\n",
      "normal\n",
      "t 0.9987639784812927, p 0.7313024997711182\n",
      "Normal\n",
      "normal\n",
      "t 0.998462438583374, p 0.5303573608398438\n"
     ]
    }
   ],
   "source": [
    "print('All')\n",
    "print(func.shapiro_normal(all_sample_mean))\n",
    "print('Discontinued')\n",
    "print(func.shapiro_normal(discontinued_sample_mean))\n",
    "print('Normal')\n",
    "print(func.shapiro_normal(normal_sample_mean))"
   ]
  },
  {
   "cell_type": "code",
   "execution_count": null,
   "metadata": {},
   "outputs": [],
   "source": []
  },
  {
   "cell_type": "markdown",
   "metadata": {},
   "source": [
    "#### Test analysis\n",
    "The null hypothesis is that the tested distribution is normally distributed, and the alternative hypothesis is that the distribution is non-normal. A p values threshold is 0.05.\n",
    "\n",
    "The null failed to be rejected. The distrubtion can be considered normal."
   ]
  },
  {
   "cell_type": "markdown",
   "metadata": {},
   "source": [
    "#### Variance Test"
   ]
  },
  {
   "cell_type": "code",
   "execution_count": 16,
   "metadata": {
    "scrolled": true
   },
   "outputs": [
    {
     "name": "stdout",
     "output_type": "stream",
     "text": [
      "p = 0.04816569617190274\n",
      "Therefore the data do not have equal variances\n"
     ]
    },
    {
     "data": {
      "text/plain": [
       "False"
      ]
     },
     "execution_count": 16,
     "metadata": {},
     "output_type": "execute_result"
    }
   ],
   "source": [
    "# Total distribution Versus the non discontinued sample.\n",
    "func.levene_variances(all_sample_mean, normal_sample_mean)"
   ]
  },
  {
   "cell_type": "code",
   "execution_count": 17,
   "metadata": {
    "scrolled": false
   },
   "outputs": [
    {
     "name": "stdout",
     "output_type": "stream",
     "text": [
      "p = 1.2284988167112896e-134\n",
      "Therefore the data do not have equal variances\n"
     ]
    },
    {
     "data": {
      "text/plain": [
       "False"
      ]
     },
     "execution_count": 17,
     "metadata": {},
     "output_type": "execute_result"
    }
   ],
   "source": [
    "# Total distribtuion versus the discontinued samples.\n",
    "func.levene_variances(all_sample_mean, discontinued_sample_mean)"
   ]
  },
  {
   "cell_type": "code",
   "execution_count": 18,
   "metadata": {
    "scrolled": true
   },
   "outputs": [
    {
     "name": "stdout",
     "output_type": "stream",
     "text": [
      "p = 3.854038813759604e-127\n",
      "Therefore the data do not have equal variances\n"
     ]
    },
    {
     "data": {
      "text/plain": [
       "False"
      ]
     },
     "execution_count": 18,
     "metadata": {},
     "output_type": "execute_result"
    }
   ],
   "source": [
    "#Non discontinued samples versus the discontinued samples\n",
    "func.levene_variances(discontinued_sample_mean, normal_sample_mean)"
   ]
  },
  {
   "cell_type": "markdown",
   "metadata": {},
   "source": [
    "The discontinued samples had difference variance compared to the other distributions."
   ]
  },
  {
   "cell_type": "markdown",
   "metadata": {},
   "source": [
    "#### Effect Size"
   ]
  },
  {
   "cell_type": "code",
   "execution_count": 19,
   "metadata": {
    "scrolled": true
   },
   "outputs": [
    {
     "data": {
      "text/plain": [
       "-0.1523233592759832"
      ]
     },
     "execution_count": 19,
     "metadata": {},
     "output_type": "execute_result"
    }
   ],
   "source": [
    "# Total distribution Versus the non discontinued sample.\n",
    "func.cohen_d(all_sample_mean, normal_sample_mean)"
   ]
  },
  {
   "cell_type": "code",
   "execution_count": 20,
   "metadata": {
    "scrolled": false
   },
   "outputs": [
    {
     "data": {
      "text/plain": [
       "0.1826323674984884"
      ]
     },
     "execution_count": 20,
     "metadata": {},
     "output_type": "execute_result"
    }
   ],
   "source": [
    "# Total distribtuion versus the discontinued samples.\n",
    "func.cohen_d(all_sample_mean, discontinued_sample_mean)"
   ]
  },
  {
   "cell_type": "code",
   "execution_count": 21,
   "metadata": {
    "scrolled": true
   },
   "outputs": [
    {
     "data": {
      "text/plain": [
       "-0.2499484603113419"
      ]
     },
     "execution_count": 21,
     "metadata": {},
     "output_type": "execute_result"
    }
   ],
   "source": [
    "#Non discontinued samples versus the discontinued samples\n",
    "func.cohen_d(discontinued_sample_mean, normal_sample_mean)"
   ]
  },
  {
   "cell_type": "markdown",
   "metadata": {},
   "source": [
    "The effect size are not very big, and would cause question a reject of the null hypothesis in a Welch's T test"
   ]
  },
  {
   "cell_type": "markdown",
   "metadata": {},
   "source": [
    "#### Welch T Test"
   ]
  },
  {
   "cell_type": "code",
   "execution_count": 22,
   "metadata": {},
   "outputs": [
    {
     "data": {
      "text/plain": [
       "Ttest_indResult(statistic=-5.589017481275687, pvalue=2.8111357710968543e-08)"
      ]
     },
     "execution_count": 22,
     "metadata": {},
     "output_type": "execute_result"
    }
   ],
   "source": [
    "scs.ttest_ind(discontinued_sample_mean, normal_sample_mean, equal_var=False)"
   ]
  },
  {
   "cell_type": "code",
   "execution_count": 23,
   "metadata": {},
   "outputs": [
    {
     "data": {
      "text/plain": [
       "Ttest_indResult(statistic=4.083783886183433, pvalue=4.7219796460801225e-05)"
      ]
     },
     "execution_count": 23,
     "metadata": {},
     "output_type": "execute_result"
    }
   ],
   "source": [
    "scs.ttest_ind(all_sample_mean, discontinued_sample_mean, equal_var=False)"
   ]
  },
  {
   "cell_type": "markdown",
   "metadata": {},
   "source": [
    "#### Test analysis\n",
    "Failed to reject the null hypothesis(the sample means are identical)\n"
   ]
  },
  {
   "cell_type": "markdown",
   "metadata": {},
   "source": [
    "### Conclusion \n",
    "There is not statistical signficant difference in between discount rate of the discontinued items versus either "
   ]
  },
  {
   "cell_type": "code",
   "execution_count": 28,
   "metadata": {},
   "outputs": [
    {
     "name": "stderr",
     "output_type": "stream",
     "text": [
      "[NbConvertApp] Converting notebook question4.ipynb to markdown\n",
      "[NbConvertApp] Support files will be in question4_files\\\n",
      "[NbConvertApp] Making directory question4_files\n",
      "[NbConvertApp] Making directory question4_files\n",
      "[NbConvertApp] Making directory question4_files\n",
      "[NbConvertApp] Making directory question4_files\n",
      "[NbConvertApp] Making directory question4_files\n",
      "[NbConvertApp] Writing 9589 bytes to question4.md\n"
     ]
    }
   ],
   "source": [
    "!jupyter nbconvert --to markdown question4"
   ]
  },
  {
   "cell_type": "code",
   "execution_count": null,
   "metadata": {},
   "outputs": [],
   "source": []
  }
 ],
 "metadata": {
  "kernelspec": {
   "display_name": "Python [conda env:.conda-learn-env] *",
   "language": "python",
   "name": "conda-env-.conda-learn-env-py"
  },
  "language_info": {
   "codemirror_mode": {
    "name": "ipython",
    "version": 3
   },
   "file_extension": ".py",
   "mimetype": "text/x-python",
   "name": "python",
   "nbconvert_exporter": "python",
   "pygments_lexer": "ipython3",
   "version": "3.6.6"
  }
 },
 "nbformat": 4,
 "nbformat_minor": 2
}
